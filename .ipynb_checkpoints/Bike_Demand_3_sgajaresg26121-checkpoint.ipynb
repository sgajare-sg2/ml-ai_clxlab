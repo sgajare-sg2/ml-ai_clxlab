{
 "cells": [
  {
   "cell_type": "markdown",
   "metadata": {},
   "source": [
    "# End-to-end Machine Learning project\n",
    "\n",
    "The best way to learning any programming language or new concept is to do hands-on on that. Let's start with buidling machine learning model\n",
    "\n",
    "## Problem Statement\n",
    "\n",
    "\n",
    "\n",
    "\n",
    "## Dataset\n",
    "\n",
    "The dataset contains the hourly rental bike demand data.\n",
    "\n",
    "It is located at `/cxldata/datasets/bootml/Bikes_Data_1`"
   ]
  },
  {
   "cell_type": "markdown",
   "metadata": {},
   "source": [
    "# Get the data"
   ]
  },
  {
   "cell_type": "code",
   "execution_count": 50,
   "metadata": {},
   "outputs": [],
   "source": [
    "import pandas as pd\n",
    "import os\n",
    "\n",
    "DATASET_PATH = '/cxldata/datasets/bootml/Bikes_Data_1'\n",
    "def load_dataset_data(dataset_path=DATASET_PATH): \n",
    "    csv_path = os.path.join(dataset_path, \"bikes.csv\") \n",
    "    return pd.read_csv(csv_path)"
   ]
  },
  {
   "cell_type": "code",
   "execution_count": 51,
   "metadata": {},
   "outputs": [
    {
     "data": {
      "text/html": [
       "<div>\n",
       "<style scoped>\n",
       "    .dataframe tbody tr th:only-of-type {\n",
       "        vertical-align: middle;\n",
       "    }\n",
       "\n",
       "    .dataframe tbody tr th {\n",
       "        vertical-align: top;\n",
       "    }\n",
       "\n",
       "    .dataframe thead th {\n",
       "        text-align: right;\n",
       "    }\n",
       "</style>\n",
       "<table border=\"1\" class=\"dataframe\">\n",
       "  <thead>\n",
       "    <tr style=\"text-align: right;\">\n",
       "      <th></th>\n",
       "      <th>instant</th>\n",
       "      <th>dteday</th>\n",
       "      <th>season</th>\n",
       "      <th>yr</th>\n",
       "      <th>mnth</th>\n",
       "      <th>hr</th>\n",
       "      <th>holiday</th>\n",
       "      <th>weekday</th>\n",
       "      <th>workingday</th>\n",
       "      <th>weathersit</th>\n",
       "      <th>temp</th>\n",
       "      <th>atemp</th>\n",
       "      <th>hum</th>\n",
       "      <th>windspeed</th>\n",
       "      <th>casual</th>\n",
       "      <th>registered</th>\n",
       "      <th>cnt</th>\n",
       "    </tr>\n",
       "  </thead>\n",
       "  <tbody>\n",
       "    <tr>\n",
       "      <th>0</th>\n",
       "      <td>1</td>\n",
       "      <td>2011-01-01</td>\n",
       "      <td>1</td>\n",
       "      <td>0</td>\n",
       "      <td>1</td>\n",
       "      <td>0</td>\n",
       "      <td>0</td>\n",
       "      <td>6</td>\n",
       "      <td>0</td>\n",
       "      <td>1</td>\n",
       "      <td>0.24</td>\n",
       "      <td>0.2879</td>\n",
       "      <td>0.81</td>\n",
       "      <td>0.0</td>\n",
       "      <td>3</td>\n",
       "      <td>13</td>\n",
       "      <td>16</td>\n",
       "    </tr>\n",
       "    <tr>\n",
       "      <th>1</th>\n",
       "      <td>2</td>\n",
       "      <td>2011-01-01</td>\n",
       "      <td>1</td>\n",
       "      <td>0</td>\n",
       "      <td>1</td>\n",
       "      <td>1</td>\n",
       "      <td>0</td>\n",
       "      <td>6</td>\n",
       "      <td>0</td>\n",
       "      <td>1</td>\n",
       "      <td>0.22</td>\n",
       "      <td>0.2727</td>\n",
       "      <td>0.80</td>\n",
       "      <td>0.0</td>\n",
       "      <td>8</td>\n",
       "      <td>32</td>\n",
       "      <td>40</td>\n",
       "    </tr>\n",
       "    <tr>\n",
       "      <th>2</th>\n",
       "      <td>3</td>\n",
       "      <td>2011-01-01</td>\n",
       "      <td>1</td>\n",
       "      <td>0</td>\n",
       "      <td>1</td>\n",
       "      <td>2</td>\n",
       "      <td>0</td>\n",
       "      <td>6</td>\n",
       "      <td>0</td>\n",
       "      <td>1</td>\n",
       "      <td>0.22</td>\n",
       "      <td>0.2727</td>\n",
       "      <td>0.80</td>\n",
       "      <td>0.0</td>\n",
       "      <td>5</td>\n",
       "      <td>27</td>\n",
       "      <td>32</td>\n",
       "    </tr>\n",
       "    <tr>\n",
       "      <th>3</th>\n",
       "      <td>4</td>\n",
       "      <td>2011-01-01</td>\n",
       "      <td>1</td>\n",
       "      <td>0</td>\n",
       "      <td>1</td>\n",
       "      <td>3</td>\n",
       "      <td>0</td>\n",
       "      <td>6</td>\n",
       "      <td>0</td>\n",
       "      <td>1</td>\n",
       "      <td>0.24</td>\n",
       "      <td>0.2879</td>\n",
       "      <td>0.75</td>\n",
       "      <td>0.0</td>\n",
       "      <td>3</td>\n",
       "      <td>10</td>\n",
       "      <td>13</td>\n",
       "    </tr>\n",
       "    <tr>\n",
       "      <th>4</th>\n",
       "      <td>5</td>\n",
       "      <td>2011-01-01</td>\n",
       "      <td>1</td>\n",
       "      <td>0</td>\n",
       "      <td>1</td>\n",
       "      <td>4</td>\n",
       "      <td>0</td>\n",
       "      <td>6</td>\n",
       "      <td>0</td>\n",
       "      <td>1</td>\n",
       "      <td>0.24</td>\n",
       "      <td>0.2879</td>\n",
       "      <td>0.75</td>\n",
       "      <td>0.0</td>\n",
       "      <td>0</td>\n",
       "      <td>1</td>\n",
       "      <td>1</td>\n",
       "    </tr>\n",
       "  </tbody>\n",
       "</table>\n",
       "</div>"
      ],
      "text/plain": [
       "   instant      dteday  season  yr  mnth  hr  holiday  weekday  workingday  \\\n",
       "0        1  2011-01-01       1   0     1   0        0        6           0   \n",
       "1        2  2011-01-01       1   0     1   1        0        6           0   \n",
       "2        3  2011-01-01       1   0     1   2        0        6           0   \n",
       "3        4  2011-01-01       1   0     1   3        0        6           0   \n",
       "4        5  2011-01-01       1   0     1   4        0        6           0   \n",
       "\n",
       "   weathersit  temp   atemp   hum  windspeed  casual  registered  cnt  \n",
       "0           1  0.24  0.2879  0.81        0.0       3          13   16  \n",
       "1           1  0.22  0.2727  0.80        0.0       8          32   40  \n",
       "2           1  0.22  0.2727  0.80        0.0       5          27   32  \n",
       "3           1  0.24  0.2879  0.75        0.0       3          10   13  \n",
       "4           1  0.24  0.2879  0.75        0.0       0           1    1  "
      ]
     },
     "execution_count": 51,
     "metadata": {},
     "output_type": "execute_result"
    }
   ],
   "source": [
    "Bikes_Data = load_dataset_data()\n",
    "Bikes_Data.head()"
   ]
  },
  {
   "cell_type": "markdown",
   "metadata": {},
   "source": [
    "The relevant attributes in bikes.csv are : \n",
    "\n",
    "season, yr, mnth, hr, holiday, weekday, workingday, weathersit, temp, atemp, hum, windspeed, cnt, \n",
    "\n"
   ]
  },
  {
   "cell_type": "markdown",
   "metadata": {},
   "source": [
    "## Let's dop the irrelevant fields from our file\n"
   ]
  },
  {
   "cell_type": "code",
   "execution_count": 52,
   "metadata": {},
   "outputs": [],
   "source": [
    "for x in ['instant','dteday','casual','registered', ]:\n",
    "    Bikes_Data = Bikes_Data.drop(x,axis=1)"
   ]
  },
  {
   "cell_type": "code",
   "execution_count": 53,
   "metadata": {},
   "outputs": [
    {
     "data": {
      "text/html": [
       "<div>\n",
       "<style scoped>\n",
       "    .dataframe tbody tr th:only-of-type {\n",
       "        vertical-align: middle;\n",
       "    }\n",
       "\n",
       "    .dataframe tbody tr th {\n",
       "        vertical-align: top;\n",
       "    }\n",
       "\n",
       "    .dataframe thead th {\n",
       "        text-align: right;\n",
       "    }\n",
       "</style>\n",
       "<table border=\"1\" class=\"dataframe\">\n",
       "  <thead>\n",
       "    <tr style=\"text-align: right;\">\n",
       "      <th></th>\n",
       "      <th>season</th>\n",
       "      <th>yr</th>\n",
       "      <th>mnth</th>\n",
       "      <th>hr</th>\n",
       "      <th>holiday</th>\n",
       "      <th>weekday</th>\n",
       "      <th>workingday</th>\n",
       "      <th>weathersit</th>\n",
       "      <th>temp</th>\n",
       "      <th>atemp</th>\n",
       "      <th>hum</th>\n",
       "      <th>windspeed</th>\n",
       "      <th>cnt</th>\n",
       "    </tr>\n",
       "  </thead>\n",
       "  <tbody>\n",
       "    <tr>\n",
       "      <th>0</th>\n",
       "      <td>1</td>\n",
       "      <td>0</td>\n",
       "      <td>1</td>\n",
       "      <td>0</td>\n",
       "      <td>0</td>\n",
       "      <td>6</td>\n",
       "      <td>0</td>\n",
       "      <td>1</td>\n",
       "      <td>0.24</td>\n",
       "      <td>0.2879</td>\n",
       "      <td>0.81</td>\n",
       "      <td>0.0</td>\n",
       "      <td>16</td>\n",
       "    </tr>\n",
       "    <tr>\n",
       "      <th>1</th>\n",
       "      <td>1</td>\n",
       "      <td>0</td>\n",
       "      <td>1</td>\n",
       "      <td>1</td>\n",
       "      <td>0</td>\n",
       "      <td>6</td>\n",
       "      <td>0</td>\n",
       "      <td>1</td>\n",
       "      <td>0.22</td>\n",
       "      <td>0.2727</td>\n",
       "      <td>0.80</td>\n",
       "      <td>0.0</td>\n",
       "      <td>40</td>\n",
       "    </tr>\n",
       "    <tr>\n",
       "      <th>2</th>\n",
       "      <td>1</td>\n",
       "      <td>0</td>\n",
       "      <td>1</td>\n",
       "      <td>2</td>\n",
       "      <td>0</td>\n",
       "      <td>6</td>\n",
       "      <td>0</td>\n",
       "      <td>1</td>\n",
       "      <td>0.22</td>\n",
       "      <td>0.2727</td>\n",
       "      <td>0.80</td>\n",
       "      <td>0.0</td>\n",
       "      <td>32</td>\n",
       "    </tr>\n",
       "    <tr>\n",
       "      <th>3</th>\n",
       "      <td>1</td>\n",
       "      <td>0</td>\n",
       "      <td>1</td>\n",
       "      <td>3</td>\n",
       "      <td>0</td>\n",
       "      <td>6</td>\n",
       "      <td>0</td>\n",
       "      <td>1</td>\n",
       "      <td>0.24</td>\n",
       "      <td>0.2879</td>\n",
       "      <td>0.75</td>\n",
       "      <td>0.0</td>\n",
       "      <td>13</td>\n",
       "    </tr>\n",
       "    <tr>\n",
       "      <th>4</th>\n",
       "      <td>1</td>\n",
       "      <td>0</td>\n",
       "      <td>1</td>\n",
       "      <td>4</td>\n",
       "      <td>0</td>\n",
       "      <td>6</td>\n",
       "      <td>0</td>\n",
       "      <td>1</td>\n",
       "      <td>0.24</td>\n",
       "      <td>0.2879</td>\n",
       "      <td>0.75</td>\n",
       "      <td>0.0</td>\n",
       "      <td>1</td>\n",
       "    </tr>\n",
       "  </tbody>\n",
       "</table>\n",
       "</div>"
      ],
      "text/plain": [
       "   season  yr  mnth  hr  holiday  weekday  workingday  weathersit  temp  \\\n",
       "0       1   0     1   0        0        6           0           1  0.24   \n",
       "1       1   0     1   1        0        6           0           1  0.22   \n",
       "2       1   0     1   2        0        6           0           1  0.22   \n",
       "3       1   0     1   3        0        6           0           1  0.24   \n",
       "4       1   0     1   4        0        6           0           1  0.24   \n",
       "\n",
       "    atemp   hum  windspeed  cnt  \n",
       "0  0.2879  0.81        0.0   16  \n",
       "1  0.2727  0.80        0.0   40  \n",
       "2  0.2727  0.80        0.0   32  \n",
       "3  0.2879  0.75        0.0   13  \n",
       "4  0.2879  0.75        0.0    1  "
      ]
     },
     "execution_count": 53,
     "metadata": {},
     "output_type": "execute_result"
    }
   ],
   "source": [
    "Bikes_Data.head()"
   ]
  },
  {
   "cell_type": "markdown",
   "metadata": {},
   "source": [
    "## Know your data"
   ]
  },
  {
   "cell_type": "code",
   "execution_count": 54,
   "metadata": {},
   "outputs": [
    {
     "name": "stdout",
     "output_type": "stream",
     "text": [
      "<class 'pandas.core.frame.DataFrame'>\n",
      "RangeIndex: 17379 entries, 0 to 17378\n",
      "Data columns (total 13 columns):\n",
      " #   Column      Non-Null Count  Dtype  \n",
      "---  ------      --------------  -----  \n",
      " 0   season      17379 non-null  int64  \n",
      " 1   yr          17379 non-null  int64  \n",
      " 2   mnth        17379 non-null  int64  \n",
      " 3   hr          17379 non-null  int64  \n",
      " 4   holiday     17379 non-null  int64  \n",
      " 5   weekday     17379 non-null  int64  \n",
      " 6   workingday  17379 non-null  int64  \n",
      " 7   weathersit  17379 non-null  int64  \n",
      " 8   temp        17379 non-null  float64\n",
      " 9   atemp       17379 non-null  float64\n",
      " 10  hum         17379 non-null  float64\n",
      " 11  windspeed   17379 non-null  float64\n",
      " 12  cnt         17379 non-null  int64  \n",
      "dtypes: float64(4), int64(9)\n",
      "memory usage: 1.7 MB\n"
     ]
    }
   ],
   "source": [
    "# The info() method is useful to get a quick description of the data\n",
    "# in particular the total number of rows,\n",
    "# and each attribute’s type and number of non-null values\n",
    "\n",
    "Bikes_Data.info()"
   ]
  },
  {
   "cell_type": "code",
   "execution_count": 55,
   "metadata": {
    "scrolled": true
   },
   "outputs": [
    {
     "data": {
      "text/html": [
       "<div>\n",
       "<style scoped>\n",
       "    .dataframe tbody tr th:only-of-type {\n",
       "        vertical-align: middle;\n",
       "    }\n",
       "\n",
       "    .dataframe tbody tr th {\n",
       "        vertical-align: top;\n",
       "    }\n",
       "\n",
       "    .dataframe thead th {\n",
       "        text-align: right;\n",
       "    }\n",
       "</style>\n",
       "<table border=\"1\" class=\"dataframe\">\n",
       "  <thead>\n",
       "    <tr style=\"text-align: right;\">\n",
       "      <th></th>\n",
       "      <th>season</th>\n",
       "      <th>yr</th>\n",
       "      <th>mnth</th>\n",
       "      <th>hr</th>\n",
       "      <th>holiday</th>\n",
       "      <th>weekday</th>\n",
       "      <th>workingday</th>\n",
       "      <th>weathersit</th>\n",
       "      <th>temp</th>\n",
       "      <th>atemp</th>\n",
       "      <th>hum</th>\n",
       "      <th>windspeed</th>\n",
       "      <th>cnt</th>\n",
       "    </tr>\n",
       "  </thead>\n",
       "  <tbody>\n",
       "    <tr>\n",
       "      <th>count</th>\n",
       "      <td>17379.000000</td>\n",
       "      <td>17379.000000</td>\n",
       "      <td>17379.000000</td>\n",
       "      <td>17379.000000</td>\n",
       "      <td>17379.000000</td>\n",
       "      <td>17379.000000</td>\n",
       "      <td>17379.000000</td>\n",
       "      <td>17379.000000</td>\n",
       "      <td>17379.000000</td>\n",
       "      <td>17379.000000</td>\n",
       "      <td>17379.000000</td>\n",
       "      <td>17379.000000</td>\n",
       "      <td>17379.000000</td>\n",
       "    </tr>\n",
       "    <tr>\n",
       "      <th>mean</th>\n",
       "      <td>2.501640</td>\n",
       "      <td>0.502561</td>\n",
       "      <td>6.537775</td>\n",
       "      <td>11.546752</td>\n",
       "      <td>0.028770</td>\n",
       "      <td>3.003683</td>\n",
       "      <td>0.682721</td>\n",
       "      <td>1.425283</td>\n",
       "      <td>0.496987</td>\n",
       "      <td>0.475775</td>\n",
       "      <td>0.627229</td>\n",
       "      <td>0.190098</td>\n",
       "      <td>189.463088</td>\n",
       "    </tr>\n",
       "    <tr>\n",
       "      <th>std</th>\n",
       "      <td>1.106918</td>\n",
       "      <td>0.500008</td>\n",
       "      <td>3.438776</td>\n",
       "      <td>6.914405</td>\n",
       "      <td>0.167165</td>\n",
       "      <td>2.005771</td>\n",
       "      <td>0.465431</td>\n",
       "      <td>0.639357</td>\n",
       "      <td>0.192556</td>\n",
       "      <td>0.171850</td>\n",
       "      <td>0.192930</td>\n",
       "      <td>0.122340</td>\n",
       "      <td>181.387599</td>\n",
       "    </tr>\n",
       "    <tr>\n",
       "      <th>min</th>\n",
       "      <td>1.000000</td>\n",
       "      <td>0.000000</td>\n",
       "      <td>1.000000</td>\n",
       "      <td>0.000000</td>\n",
       "      <td>0.000000</td>\n",
       "      <td>0.000000</td>\n",
       "      <td>0.000000</td>\n",
       "      <td>1.000000</td>\n",
       "      <td>0.020000</td>\n",
       "      <td>0.000000</td>\n",
       "      <td>0.000000</td>\n",
       "      <td>0.000000</td>\n",
       "      <td>1.000000</td>\n",
       "    </tr>\n",
       "    <tr>\n",
       "      <th>25%</th>\n",
       "      <td>2.000000</td>\n",
       "      <td>0.000000</td>\n",
       "      <td>4.000000</td>\n",
       "      <td>6.000000</td>\n",
       "      <td>0.000000</td>\n",
       "      <td>1.000000</td>\n",
       "      <td>0.000000</td>\n",
       "      <td>1.000000</td>\n",
       "      <td>0.340000</td>\n",
       "      <td>0.333300</td>\n",
       "      <td>0.480000</td>\n",
       "      <td>0.104500</td>\n",
       "      <td>40.000000</td>\n",
       "    </tr>\n",
       "    <tr>\n",
       "      <th>50%</th>\n",
       "      <td>3.000000</td>\n",
       "      <td>1.000000</td>\n",
       "      <td>7.000000</td>\n",
       "      <td>12.000000</td>\n",
       "      <td>0.000000</td>\n",
       "      <td>3.000000</td>\n",
       "      <td>1.000000</td>\n",
       "      <td>1.000000</td>\n",
       "      <td>0.500000</td>\n",
       "      <td>0.484800</td>\n",
       "      <td>0.630000</td>\n",
       "      <td>0.194000</td>\n",
       "      <td>142.000000</td>\n",
       "    </tr>\n",
       "    <tr>\n",
       "      <th>75%</th>\n",
       "      <td>3.000000</td>\n",
       "      <td>1.000000</td>\n",
       "      <td>10.000000</td>\n",
       "      <td>18.000000</td>\n",
       "      <td>0.000000</td>\n",
       "      <td>5.000000</td>\n",
       "      <td>1.000000</td>\n",
       "      <td>2.000000</td>\n",
       "      <td>0.660000</td>\n",
       "      <td>0.621200</td>\n",
       "      <td>0.780000</td>\n",
       "      <td>0.253700</td>\n",
       "      <td>281.000000</td>\n",
       "    </tr>\n",
       "    <tr>\n",
       "      <th>max</th>\n",
       "      <td>4.000000</td>\n",
       "      <td>1.000000</td>\n",
       "      <td>12.000000</td>\n",
       "      <td>23.000000</td>\n",
       "      <td>1.000000</td>\n",
       "      <td>6.000000</td>\n",
       "      <td>1.000000</td>\n",
       "      <td>4.000000</td>\n",
       "      <td>1.000000</td>\n",
       "      <td>1.000000</td>\n",
       "      <td>1.000000</td>\n",
       "      <td>0.850700</td>\n",
       "      <td>977.000000</td>\n",
       "    </tr>\n",
       "  </tbody>\n",
       "</table>\n",
       "</div>"
      ],
      "text/plain": [
       "             season            yr          mnth            hr       holiday  \\\n",
       "count  17379.000000  17379.000000  17379.000000  17379.000000  17379.000000   \n",
       "mean       2.501640      0.502561      6.537775     11.546752      0.028770   \n",
       "std        1.106918      0.500008      3.438776      6.914405      0.167165   \n",
       "min        1.000000      0.000000      1.000000      0.000000      0.000000   \n",
       "25%        2.000000      0.000000      4.000000      6.000000      0.000000   \n",
       "50%        3.000000      1.000000      7.000000     12.000000      0.000000   \n",
       "75%        3.000000      1.000000     10.000000     18.000000      0.000000   \n",
       "max        4.000000      1.000000     12.000000     23.000000      1.000000   \n",
       "\n",
       "            weekday    workingday    weathersit          temp         atemp  \\\n",
       "count  17379.000000  17379.000000  17379.000000  17379.000000  17379.000000   \n",
       "mean       3.003683      0.682721      1.425283      0.496987      0.475775   \n",
       "std        2.005771      0.465431      0.639357      0.192556      0.171850   \n",
       "min        0.000000      0.000000      1.000000      0.020000      0.000000   \n",
       "25%        1.000000      0.000000      1.000000      0.340000      0.333300   \n",
       "50%        3.000000      1.000000      1.000000      0.500000      0.484800   \n",
       "75%        5.000000      1.000000      2.000000      0.660000      0.621200   \n",
       "max        6.000000      1.000000      4.000000      1.000000      1.000000   \n",
       "\n",
       "                hum     windspeed           cnt  \n",
       "count  17379.000000  17379.000000  17379.000000  \n",
       "mean       0.627229      0.190098    189.463088  \n",
       "std        0.192930      0.122340    181.387599  \n",
       "min        0.000000      0.000000      1.000000  \n",
       "25%        0.480000      0.104500     40.000000  \n",
       "50%        0.630000      0.194000    142.000000  \n",
       "75%        0.780000      0.253700    281.000000  \n",
       "max        1.000000      0.850700    977.000000  "
      ]
     },
     "execution_count": 55,
     "metadata": {},
     "output_type": "execute_result"
    }
   ],
   "source": [
    "# Let's look at the numerical fields.\n",
    "# The describe() method shows a summary of the numerical attributes\n",
    "\n",
    "Bikes_Data.describe()"
   ]
  },
  {
   "cell_type": "markdown",
   "metadata": {},
   "source": [
    "The count, mean, min and max rows are self-explanatory.\n",
    "\n",
    "**std** rows shows the standard deviation (which measures how dispersed the values are)\n",
    "\n",
    "** 25%, 50%, 75% ** shows the corresponding percentiles\n",
    "\n",
    "** Points to Note**\n",
    "\n",
    "1. ** 25th percentile is called 1st quartile ** \n",
    "2. ** 50th percentile is called median ** \n",
    "3. ** 75th percentile is called 3rd quartile ** "
   ]
  },
  {
   "cell_type": "markdown",
   "metadata": {},
   "source": [
    "## Plot histogram"
   ]
  },
  {
   "cell_type": "code",
   "execution_count": 56,
   "metadata": {
    "scrolled": true
   },
   "outputs": [
    {
     "data": {
      "image/png": "[encoded data removed]",
      "text/plain": [
       "<Figure size 1440x1080 with 16 Axes>"
      ]
     },
     "metadata": {
      "needs_background": "light"
     },
     "output_type": "display_data"
    }
   ],
   "source": [
    "# Let's plot a histogram to get the feel of type of data we are dealing with\n",
    "# We can plot histogram only for numerical attributres\n",
    "\n",
    "%matplotlib inline\n",
    "import matplotlib.pyplot as plt\n",
    "Bikes_Data.hist(bins=50, figsize=(20,15))\n",
    "plt.show()"
   ]
  },
  {
   "cell_type": "markdown",
   "metadata": {},
   "source": [
    "## Split dataset into test and training set"
   ]
  },
  {
   "cell_type": "code",
   "execution_count": 57,
   "metadata": {},
   "outputs": [],
   "source": [
    "# To make this notebook's output identical at every run\n",
    "\n",
    "import numpy as np\n",
    "\n",
    "np.random.seed(42)"
   ]
  },
  {
   "cell_type": "code",
   "execution_count": 58,
   "metadata": {
    "scrolled": false
   },
   "outputs": [
    {
     "name": "stdout",
     "output_type": "stream",
     "text": [
      "Length of train set is 13903\n",
      "Length of test set is 3476\n"
     ]
    }
   ],
   "source": [
    "# With sklearn train_test_split\n",
    "\n",
    "from sklearn.model_selection import train_test_split\n",
    "\n",
    "train_set, test_set = train_test_split(Bikes_Data, test_size=0.2, random_state=42)\n",
    "\n",
    "print (\"Length of train set is\", len(train_set))\n",
    "print (\"Length of test set is\", len(test_set))\n"
   ]
  },
  {
   "cell_type": "code",
   "execution_count": 59,
   "metadata": {},
   "outputs": [
    {
     "data": {
      "text/html": [
       "<div>\n",
       "<style scoped>\n",
       "    .dataframe tbody tr th:only-of-type {\n",
       "        vertical-align: middle;\n",
       "    }\n",
       "\n",
       "    .dataframe tbody tr th {\n",
       "        vertical-align: top;\n",
       "    }\n",
       "\n",
       "    .dataframe thead th {\n",
       "        text-align: right;\n",
       "    }\n",
       "</style>\n",
       "<table border=\"1\" class=\"dataframe\">\n",
       "  <thead>\n",
       "    <tr style=\"text-align: right;\">\n",
       "      <th></th>\n",
       "      <th>season</th>\n",
       "      <th>yr</th>\n",
       "      <th>mnth</th>\n",
       "      <th>hr</th>\n",
       "      <th>holiday</th>\n",
       "      <th>weekday</th>\n",
       "      <th>workingday</th>\n",
       "      <th>weathersit</th>\n",
       "      <th>temp</th>\n",
       "      <th>atemp</th>\n",
       "      <th>hum</th>\n",
       "      <th>windspeed</th>\n",
       "      <th>cnt</th>\n",
       "    </tr>\n",
       "  </thead>\n",
       "  <tbody>\n",
       "    <tr>\n",
       "      <th>335</th>\n",
       "      <td>1</td>\n",
       "      <td>0</td>\n",
       "      <td>1</td>\n",
       "      <td>11</td>\n",
       "      <td>0</td>\n",
       "      <td>6</td>\n",
       "      <td>0</td>\n",
       "      <td>1</td>\n",
       "      <td>0.20</td>\n",
       "      <td>0.1970</td>\n",
       "      <td>0.55</td>\n",
       "      <td>0.2239</td>\n",
       "      <td>72</td>\n",
       "    </tr>\n",
       "    <tr>\n",
       "      <th>7035</th>\n",
       "      <td>4</td>\n",
       "      <td>0</td>\n",
       "      <td>10</td>\n",
       "      <td>18</td>\n",
       "      <td>0</td>\n",
       "      <td>2</td>\n",
       "      <td>1</td>\n",
       "      <td>1</td>\n",
       "      <td>0.52</td>\n",
       "      <td>0.5000</td>\n",
       "      <td>0.42</td>\n",
       "      <td>0.1045</td>\n",
       "      <td>518</td>\n",
       "    </tr>\n",
       "    <tr>\n",
       "      <th>8051</th>\n",
       "      <td>4</td>\n",
       "      <td>0</td>\n",
       "      <td>12</td>\n",
       "      <td>3</td>\n",
       "      <td>0</td>\n",
       "      <td>3</td>\n",
       "      <td>1</td>\n",
       "      <td>3</td>\n",
       "      <td>0.46</td>\n",
       "      <td>0.4545</td>\n",
       "      <td>1.00</td>\n",
       "      <td>0.2239</td>\n",
       "      <td>3</td>\n",
       "    </tr>\n",
       "    <tr>\n",
       "      <th>2133</th>\n",
       "      <td>2</td>\n",
       "      <td>0</td>\n",
       "      <td>4</td>\n",
       "      <td>18</td>\n",
       "      <td>0</td>\n",
       "      <td>0</td>\n",
       "      <td>0</td>\n",
       "      <td>2</td>\n",
       "      <td>0.46</td>\n",
       "      <td>0.4545</td>\n",
       "      <td>0.31</td>\n",
       "      <td>0.0000</td>\n",
       "      <td>172</td>\n",
       "    </tr>\n",
       "    <tr>\n",
       "      <th>8485</th>\n",
       "      <td>1</td>\n",
       "      <td>0</td>\n",
       "      <td>12</td>\n",
       "      <td>6</td>\n",
       "      <td>0</td>\n",
       "      <td>0</td>\n",
       "      <td>0</td>\n",
       "      <td>1</td>\n",
       "      <td>0.20</td>\n",
       "      <td>0.2273</td>\n",
       "      <td>0.75</td>\n",
       "      <td>0.1045</td>\n",
       "      <td>1</td>\n",
       "    </tr>\n",
       "  </tbody>\n",
       "</table>\n",
       "</div>"
      ],
      "text/plain": [
       "      season  yr  mnth  hr  holiday  weekday  workingday  weathersit  temp  \\\n",
       "335        1   0     1  11        0        6           0           1  0.20   \n",
       "7035       4   0    10  18        0        2           1           1  0.52   \n",
       "8051       4   0    12   3        0        3           1           3  0.46   \n",
       "2133       2   0     4  18        0        0           0           2  0.46   \n",
       "8485       1   0    12   6        0        0           0           1  0.20   \n",
       "\n",
       "       atemp   hum  windspeed  cnt  \n",
       "335   0.1970  0.55     0.2239   72  \n",
       "7035  0.5000  0.42     0.1045  518  \n",
       "8051  0.4545  1.00     0.2239    3  \n",
       "2133  0.4545  0.31     0.0000  172  \n",
       "8485  0.2273  0.75     0.1045    1  "
      ]
     },
     "execution_count": 59,
     "metadata": {},
     "output_type": "execute_result"
    }
   ],
   "source": [
    "Bikes_Data = train_set.copy()\n",
    "Bikes_Data.head()"
   ]
  },
  {
   "cell_type": "markdown",
   "metadata": {},
   "source": [
    "# Discover and visualize the data to gain insights"
   ]
  },
  {
   "cell_type": "code",
   "execution_count": 60,
   "metadata": {
    "scrolled": false
   },
   "outputs": [
    {
     "data": {
      "text/plain": [
       "<AxesSubplot:xlabel='season', ylabel='season'>"
      ]
     },
     "execution_count": 60,
     "metadata": {},
     "output_type": "execute_result"
    },
    {
     "data": {
      "image/png": "[encoded data removed]",
      "text/plain": [
       "<Figure size 432x288 with 1 Axes>"
      ]
     },
     "metadata": {
      "needs_background": "light"
     },
     "output_type": "display_data"
    }
   ],
   "source": [
    "Bikes_Data.plot(kind=\"scatter\", x=\"season\", y=\"season\", alpha=0.1)"
   ]
  },
  {
   "cell_type": "markdown",
   "metadata": {},
   "source": [
    "# Generate correlations"
   ]
  },
  {
   "cell_type": "code",
   "execution_count": 61,
   "metadata": {},
   "outputs": [
    {
     "data": {
      "text/html": [
       "<div>\n",
       "<style scoped>\n",
       "    .dataframe tbody tr th:only-of-type {\n",
       "        vertical-align: middle;\n",
       "    }\n",
       "\n",
       "    .dataframe tbody tr th {\n",
       "        vertical-align: top;\n",
       "    }\n",
       "\n",
       "    .dataframe thead th {\n",
       "        text-align: right;\n",
       "    }\n",
       "</style>\n",
       "<table border=\"1\" class=\"dataframe\">\n",
       "  <thead>\n",
       "    <tr style=\"text-align: right;\">\n",
       "      <th></th>\n",
       "      <th>season</th>\n",
       "      <th>yr</th>\n",
       "      <th>mnth</th>\n",
       "      <th>hr</th>\n",
       "      <th>holiday</th>\n",
       "      <th>weekday</th>\n",
       "      <th>workingday</th>\n",
       "      <th>weathersit</th>\n",
       "      <th>temp</th>\n",
       "      <th>atemp</th>\n",
       "      <th>hum</th>\n",
       "      <th>windspeed</th>\n",
       "      <th>cnt</th>\n",
       "    </tr>\n",
       "  </thead>\n",
       "  <tbody>\n",
       "    <tr>\n",
       "      <th>season</th>\n",
       "      <td>1.000000</td>\n",
       "      <td>-0.003316</td>\n",
       "      <td>0.830838</td>\n",
       "      <td>-0.005450</td>\n",
       "      <td>-0.007469</td>\n",
       "      <td>0.005452</td>\n",
       "      <td>0.009564</td>\n",
       "      <td>-0.017523</td>\n",
       "      <td>0.309755</td>\n",
       "      <td>0.316494</td>\n",
       "      <td>0.145879</td>\n",
       "      <td>-0.147734</td>\n",
       "      <td>0.184377</td>\n",
       "    </tr>\n",
       "    <tr>\n",
       "      <th>yr</th>\n",
       "      <td>-0.003316</td>\n",
       "      <td>1.000000</td>\n",
       "      <td>-0.006478</td>\n",
       "      <td>-0.007116</td>\n",
       "      <td>0.004896</td>\n",
       "      <td>-0.004896</td>\n",
       "      <td>-0.003813</td>\n",
       "      <td>-0.024690</td>\n",
       "      <td>0.043597</td>\n",
       "      <td>0.041013</td>\n",
       "      <td>-0.086375</td>\n",
       "      <td>-0.005901</td>\n",
       "      <td>0.255502</td>\n",
       "    </tr>\n",
       "    <tr>\n",
       "      <th>mnth</th>\n",
       "      <td>0.830838</td>\n",
       "      <td>-0.006478</td>\n",
       "      <td>1.000000</td>\n",
       "      <td>-0.004646</td>\n",
       "      <td>0.021481</td>\n",
       "      <td>0.017750</td>\n",
       "      <td>-0.007288</td>\n",
       "      <td>0.002612</td>\n",
       "      <td>0.201063</td>\n",
       "      <td>0.206967</td>\n",
       "      <td>0.158561</td>\n",
       "      <td>-0.133068</td>\n",
       "      <td>0.127409</td>\n",
       "    </tr>\n",
       "    <tr>\n",
       "      <th>hr</th>\n",
       "      <td>-0.005450</td>\n",
       "      <td>-0.007116</td>\n",
       "      <td>-0.004646</td>\n",
       "      <td>1.000000</td>\n",
       "      <td>-0.003198</td>\n",
       "      <td>0.001459</td>\n",
       "      <td>0.001451</td>\n",
       "      <td>-0.022806</td>\n",
       "      <td>0.139751</td>\n",
       "      <td>0.136055</td>\n",
       "      <td>-0.279349</td>\n",
       "      <td>0.135922</td>\n",
       "      <td>0.391871</td>\n",
       "    </tr>\n",
       "    <tr>\n",
       "      <th>holiday</th>\n",
       "      <td>-0.007469</td>\n",
       "      <td>0.004896</td>\n",
       "      <td>0.021481</td>\n",
       "      <td>-0.003198</td>\n",
       "      <td>1.000000</td>\n",
       "      <td>-0.097091</td>\n",
       "      <td>-0.250323</td>\n",
       "      <td>-0.017523</td>\n",
       "      <td>-0.028483</td>\n",
       "      <td>-0.031737</td>\n",
       "      <td>-0.009134</td>\n",
       "      <td>0.004926</td>\n",
       "      <td>-0.034094</td>\n",
       "    </tr>\n",
       "    <tr>\n",
       "      <th>weekday</th>\n",
       "      <td>0.005452</td>\n",
       "      <td>-0.004896</td>\n",
       "      <td>0.017750</td>\n",
       "      <td>0.001459</td>\n",
       "      <td>-0.097091</td>\n",
       "      <td>1.000000</td>\n",
       "      <td>0.036018</td>\n",
       "      <td>0.005411</td>\n",
       "      <td>-0.001113</td>\n",
       "      <td>-0.008181</td>\n",
       "      <td>-0.038305</td>\n",
       "      <td>0.014117</td>\n",
       "      <td>0.028801</td>\n",
       "    </tr>\n",
       "    <tr>\n",
       "      <th>workingday</th>\n",
       "      <td>0.009564</td>\n",
       "      <td>-0.003813</td>\n",
       "      <td>-0.007288</td>\n",
       "      <td>0.001451</td>\n",
       "      <td>-0.250323</td>\n",
       "      <td>0.036018</td>\n",
       "      <td>1.000000</td>\n",
       "      <td>0.041726</td>\n",
       "      <td>0.050184</td>\n",
       "      <td>0.049149</td>\n",
       "      <td>0.016234</td>\n",
       "      <td>-0.018515</td>\n",
       "      <td>0.027403</td>\n",
       "    </tr>\n",
       "    <tr>\n",
       "      <th>weathersit</th>\n",
       "      <td>-0.017523</td>\n",
       "      <td>-0.024690</td>\n",
       "      <td>0.002612</td>\n",
       "      <td>-0.022806</td>\n",
       "      <td>-0.017523</td>\n",
       "      <td>0.005411</td>\n",
       "      <td>0.041726</td>\n",
       "      <td>1.000000</td>\n",
       "      <td>-0.102985</td>\n",
       "      <td>-0.106185</td>\n",
       "      <td>0.417439</td>\n",
       "      <td>0.019551</td>\n",
       "      <td>-0.144581</td>\n",
       "    </tr>\n",
       "    <tr>\n",
       "      <th>temp</th>\n",
       "      <td>0.309755</td>\n",
       "      <td>0.043597</td>\n",
       "      <td>0.201063</td>\n",
       "      <td>0.139751</td>\n",
       "      <td>-0.028483</td>\n",
       "      <td>-0.001113</td>\n",
       "      <td>0.050184</td>\n",
       "      <td>-0.102985</td>\n",
       "      <td>1.000000</td>\n",
       "      <td>0.987351</td>\n",
       "      <td>-0.074971</td>\n",
       "      <td>-0.025406</td>\n",
       "      <td>0.403476</td>\n",
       "    </tr>\n",
       "    <tr>\n",
       "      <th>atemp</th>\n",
       "      <td>0.316494</td>\n",
       "      <td>0.041013</td>\n",
       "      <td>0.206967</td>\n",
       "      <td>0.136055</td>\n",
       "      <td>-0.031737</td>\n",
       "      <td>-0.008181</td>\n",
       "      <td>0.049149</td>\n",
       "      <td>-0.106185</td>\n",
       "      <td>0.987351</td>\n",
       "      <td>1.000000</td>\n",
       "      <td>-0.057273</td>\n",
       "      <td>-0.064292</td>\n",
       "      <td>0.399118</td>\n",
       "    </tr>\n",
       "    <tr>\n",
       "      <th>hum</th>\n",
       "      <td>0.145879</td>\n",
       "      <td>-0.086375</td>\n",
       "      <td>0.158561</td>\n",
       "      <td>-0.279349</td>\n",
       "      <td>-0.009134</td>\n",
       "      <td>-0.038305</td>\n",
       "      <td>0.016234</td>\n",
       "      <td>0.417439</td>\n",
       "      <td>-0.074971</td>\n",
       "      <td>-0.057273</td>\n",
       "      <td>1.000000</td>\n",
       "      <td>-0.291785</td>\n",
       "      <td>-0.324475</td>\n",
       "    </tr>\n",
       "    <tr>\n",
       "      <th>windspeed</th>\n",
       "      <td>-0.147734</td>\n",
       "      <td>-0.005901</td>\n",
       "      <td>-0.133068</td>\n",
       "      <td>0.135922</td>\n",
       "      <td>0.004926</td>\n",
       "      <td>0.014117</td>\n",
       "      <td>-0.018515</td>\n",
       "      <td>0.019551</td>\n",
       "      <td>-0.025406</td>\n",
       "      <td>-0.064292</td>\n",
       "      <td>-0.291785</td>\n",
       "      <td>1.000000</td>\n",
       "      <td>0.088802</td>\n",
       "    </tr>\n",
       "    <tr>\n",
       "      <th>cnt</th>\n",
       "      <td>0.184377</td>\n",
       "      <td>0.255502</td>\n",
       "      <td>0.127409</td>\n",
       "      <td>0.391871</td>\n",
       "      <td>-0.034094</td>\n",
       "      <td>0.028801</td>\n",
       "      <td>0.027403</td>\n",
       "      <td>-0.144581</td>\n",
       "      <td>0.403476</td>\n",
       "      <td>0.399118</td>\n",
       "      <td>-0.324475</td>\n",
       "      <td>0.088802</td>\n",
       "      <td>1.000000</td>\n",
       "    </tr>\n",
       "  </tbody>\n",
       "</table>\n",
       "</div>"
      ],
      "text/plain": [
       "              season        yr      mnth        hr   holiday   weekday  \\\n",
       "season      1.000000 -0.003316  0.830838 -0.005450 -0.007469  0.005452   \n",
       "yr         -0.003316  1.000000 -0.006478 -0.007116  0.004896 -0.004896   \n",
       "mnth        0.830838 -0.006478  1.000000 -0.004646  0.021481  0.017750   \n",
       "hr         -0.005450 -0.007116 -0.004646  1.000000 -0.003198  0.001459   \n",
       "holiday    -0.007469  0.004896  0.021481 -0.003198  1.000000 -0.097091   \n",
       "weekday     0.005452 -0.004896  0.017750  0.001459 -0.097091  1.000000   \n",
       "workingday  0.009564 -0.003813 -0.007288  0.001451 -0.250323  0.036018   \n",
       "weathersit -0.017523 -0.024690  0.002612 -0.022806 -0.017523  0.005411   \n",
       "temp        0.309755  0.043597  0.201063  0.139751 -0.028483 -0.001113   \n",
       "atemp       0.316494  0.041013  0.206967  0.136055 -0.031737 -0.008181   \n",
       "hum         0.145879 -0.086375  0.158561 -0.279349 -0.009134 -0.038305   \n",
       "windspeed  -0.147734 -0.005901 -0.133068  0.135922  0.004926  0.014117   \n",
       "cnt         0.184377  0.255502  0.127409  0.391871 -0.034094  0.028801   \n",
       "\n",
       "            workingday  weathersit      temp     atemp       hum  windspeed  \\\n",
       "season        0.009564   -0.017523  0.309755  0.316494  0.145879  -0.147734   \n",
       "yr           -0.003813   -0.024690  0.043597  0.041013 -0.086375  -0.005901   \n",
       "mnth         -0.007288    0.002612  0.201063  0.206967  0.158561  -0.133068   \n",
       "hr            0.001451   -0.022806  0.139751  0.136055 -0.279349   0.135922   \n",
       "holiday      -0.250323   -0.017523 -0.028483 -0.031737 -0.009134   0.004926   \n",
       "weekday       0.036018    0.005411 -0.001113 -0.008181 -0.038305   0.014117   \n",
       "workingday    1.000000    0.041726  0.050184  0.049149  0.016234  -0.018515   \n",
       "weathersit    0.041726    1.000000 -0.102985 -0.106185  0.417439   0.019551   \n",
       "temp          0.050184   -0.102985  1.000000  0.987351 -0.074971  -0.025406   \n",
       "atemp         0.049149   -0.106185  0.987351  1.000000 -0.057273  -0.064292   \n",
       "hum           0.016234    0.417439 -0.074971 -0.057273  1.000000  -0.291785   \n",
       "windspeed    -0.018515    0.019551 -0.025406 -0.064292 -0.291785   1.000000   \n",
       "cnt           0.027403   -0.144581  0.403476  0.399118 -0.324475   0.088802   \n",
       "\n",
       "                 cnt  \n",
       "season      0.184377  \n",
       "yr          0.255502  \n",
       "mnth        0.127409  \n",
       "hr          0.391871  \n",
       "holiday    -0.034094  \n",
       "weekday     0.028801  \n",
       "workingday  0.027403  \n",
       "weathersit -0.144581  \n",
       "temp        0.403476  \n",
       "atemp       0.399118  \n",
       "hum        -0.324475  \n",
       "windspeed   0.088802  \n",
       "cnt         1.000000  "
      ]
     },
     "execution_count": 61,
     "metadata": {},
     "output_type": "execute_result"
    }
   ],
   "source": [
    "corr_matrix = Bikes_Data.corr()\n",
    "corr_matrix"
   ]
  },
  {
   "cell_type": "code",
   "execution_count": 62,
   "metadata": {},
   "outputs": [
    {
     "name": "stdout",
     "output_type": "stream",
     "text": [
      "season        0.184377\n",
      "yr            0.255502\n",
      "mnth          0.127409\n",
      "hr            0.391871\n",
      "holiday      -0.034094\n",
      "weekday       0.028801\n",
      "workingday    0.027403\n",
      "weathersit   -0.144581\n",
      "temp          0.403476\n",
      "atemp         0.399118\n",
      "hum          -0.324475\n",
      "windspeed     0.088802\n",
      "cnt           1.000000\n",
      "Name: cnt, dtype: float64\n"
     ]
    }
   ],
   "source": [
    "for x in ['cnt', ]:\n",
    "    print (corr_matrix[x])"
   ]
  },
  {
   "cell_type": "code",
   "execution_count": 63,
   "metadata": {
    "scrolled": true
   },
   "outputs": [
    {
     "name": "stdout",
     "output_type": "stream",
     "text": [
      "cnt           1.000000\n",
      "temp          0.403476\n",
      "atemp         0.399118\n",
      "hr            0.391871\n",
      "yr            0.255502\n",
      "season        0.184377\n",
      "mnth          0.127409\n",
      "windspeed     0.088802\n",
      "weekday       0.028801\n",
      "workingday    0.027403\n",
      "holiday      -0.034094\n",
      "weathersit   -0.144581\n",
      "hum          -0.324475\n",
      "Name: cnt, dtype: float64\n"
     ]
    }
   ],
   "source": [
    "for x in ['cnt', ]:\n",
    "    print (corr_matrix[x].sort_values(ascending=False))"
   ]
  },
  {
   "cell_type": "markdown",
   "metadata": {},
   "source": [
    "# Generate scatter matrix"
   ]
  },
  {
   "cell_type": "code",
   "execution_count": 64,
   "metadata": {
    "scrolled": true
   },
   "outputs": [
    {
     "data": {
      "text/plain": [
       "array([[<AxesSubplot:xlabel='season', ylabel='season'>,\n",
       "        <AxesSubplot:xlabel='yr', ylabel='season'>,\n",
       "        <AxesSubplot:xlabel='mnth', ylabel='season'>,\n",
       "        <AxesSubplot:xlabel='hr', ylabel='season'>,\n",
       "        <AxesSubplot:xlabel='holiday', ylabel='season'>,\n",
       "        <AxesSubplot:xlabel='weekday', ylabel='season'>,\n",
       "        <AxesSubplot:xlabel='workingday', ylabel='season'>,\n",
       "        <AxesSubplot:xlabel='weathersit', ylabel='season'>,\n",
       "        <AxesSubplot:xlabel='temp', ylabel='season'>,\n",
       "        <AxesSubplot:xlabel='atemp', ylabel='season'>,\n",
       "        <AxesSubplot:xlabel='hum', ylabel='season'>,\n",
       "        <AxesSubplot:xlabel='windspeed', ylabel='season'>,\n",
       "        <AxesSubplot:xlabel='cnt', ylabel='season'>],\n",
       "       [<AxesSubplot:xlabel='season', ylabel='yr'>,\n",
       "        <AxesSubplot:xlabel='yr', ylabel='yr'>,\n",
       "        <AxesSubplot:xlabel='mnth', ylabel='yr'>,\n",
       "        <AxesSubplot:xlabel='hr', ylabel='yr'>,\n",
       "        <AxesSubplot:xlabel='holiday', ylabel='yr'>,\n",
       "        <AxesSubplot:xlabel='weekday', ylabel='yr'>,\n",
       "        <AxesSubplot:xlabel='workingday', ylabel='yr'>,\n",
       "        <AxesSubplot:xlabel='weathersit', ylabel='yr'>,\n",
       "        <AxesSubplot:xlabel='temp', ylabel='yr'>,\n",
       "        <AxesSubplot:xlabel='atemp', ylabel='yr'>,\n",
       "        <AxesSubplot:xlabel='hum', ylabel='yr'>,\n",
       "        <AxesSubplot:xlabel='windspeed', ylabel='yr'>,\n",
       "        <AxesSubplot:xlabel='cnt', ylabel='yr'>],\n",
       "       [<AxesSubplot:xlabel='season', ylabel='mnth'>,\n",
       "        <AxesSubplot:xlabel='yr', ylabel='mnth'>,\n",
       "        <AxesSubplot:xlabel='mnth', ylabel='mnth'>,\n",
       "        <AxesSubplot:xlabel='hr', ylabel='mnth'>,\n",
       "        <AxesSubplot:xlabel='holiday', ylabel='mnth'>,\n",
       "        <AxesSubplot:xlabel='weekday', ylabel='mnth'>,\n",
       "        <AxesSubplot:xlabel='workingday', ylabel='mnth'>,\n",
       "        <AxesSubplot:xlabel='weathersit', ylabel='mnth'>,\n",
       "        <AxesSubplot:xlabel='temp', ylabel='mnth'>,\n",
       "        <AxesSubplot:xlabel='atemp', ylabel='mnth'>,\n",
       "        <AxesSubplot:xlabel='hum', ylabel='mnth'>,\n",
       "        <AxesSubplot:xlabel='windspeed', ylabel='mnth'>,\n",
       "        <AxesSubplot:xlabel='cnt', ylabel='mnth'>],\n",
       "       [<AxesSubplot:xlabel='season', ylabel='hr'>,\n",
       "        <AxesSubplot:xlabel='yr', ylabel='hr'>,\n",
       "        <AxesSubplot:xlabel='mnth', ylabel='hr'>,\n",
       "        <AxesSubplot:xlabel='hr', ylabel='hr'>,\n",
       "        <AxesSubplot:xlabel='holiday', ylabel='hr'>,\n",
       "        <AxesSubplot:xlabel='weekday', ylabel='hr'>,\n",
       "        <AxesSubplot:xlabel='workingday', ylabel='hr'>,\n",
       "        <AxesSubplot:xlabel='weathersit', ylabel='hr'>,\n",
       "        <AxesSubplot:xlabel='temp', ylabel='hr'>,\n",
       "        <AxesSubplot:xlabel='atemp', ylabel='hr'>,\n",
       "        <AxesSubplot:xlabel='hum', ylabel='hr'>,\n",
       "        <AxesSubplot:xlabel='windspeed', ylabel='hr'>,\n",
       "        <AxesSubplot:xlabel='cnt', ylabel='hr'>],\n",
       "       [<AxesSubplot:xlabel='season', ylabel='holiday'>,\n",
       "        <AxesSubplot:xlabel='yr', ylabel='holiday'>,\n",
       "        <AxesSubplot:xlabel='mnth', ylabel='holiday'>,\n",
       "        <AxesSubplot:xlabel='hr', ylabel='holiday'>,\n",
       "        <AxesSubplot:xlabel='holiday', ylabel='holiday'>,\n",
       "        <AxesSubplot:xlabel='weekday', ylabel='holiday'>,\n",
       "        <AxesSubplot:xlabel='workingday', ylabel='holiday'>,\n",
       "        <AxesSubplot:xlabel='weathersit', ylabel='holiday'>,\n",
       "        <AxesSubplot:xlabel='temp', ylabel='holiday'>,\n",
       "        <AxesSubplot:xlabel='atemp', ylabel='holiday'>,\n",
       "        <AxesSubplot:xlabel='hum', ylabel='holiday'>,\n",
       "        <AxesSubplot:xlabel='windspeed', ylabel='holiday'>,\n",
       "        <AxesSubplot:xlabel='cnt', ylabel='holiday'>],\n",
       "       [<AxesSubplot:xlabel='season', ylabel='weekday'>,\n",
       "        <AxesSubplot:xlabel='yr', ylabel='weekday'>,\n",
       "        <AxesSubplot:xlabel='mnth', ylabel='weekday'>,\n",
       "        <AxesSubplot:xlabel='hr', ylabel='weekday'>,\n",
       "        <AxesSubplot:xlabel='holiday', ylabel='weekday'>,\n",
       "        <AxesSubplot:xlabel='weekday', ylabel='weekday'>,\n",
       "        <AxesSubplot:xlabel='workingday', ylabel='weekday'>,\n",
       "        <AxesSubplot:xlabel='weathersit', ylabel='weekday'>,\n",
       "        <AxesSubplot:xlabel='temp', ylabel='weekday'>,\n",
       "        <AxesSubplot:xlabel='atemp', ylabel='weekday'>,\n",
       "        <AxesSubplot:xlabel='hum', ylabel='weekday'>,\n",
       "        <AxesSubplot:xlabel='windspeed', ylabel='weekday'>,\n",
       "        <AxesSubplot:xlabel='cnt', ylabel='weekday'>],\n",
       "       [<AxesSubplot:xlabel='season', ylabel='workingday'>,\n",
       "        <AxesSubplot:xlabel='yr', ylabel='workingday'>,\n",
       "        <AxesSubplot:xlabel='mnth', ylabel='workingday'>,\n",
       "        <AxesSubplot:xlabel='hr', ylabel='workingday'>,\n",
       "        <AxesSubplot:xlabel='holiday', ylabel='workingday'>,\n",
       "        <AxesSubplot:xlabel='weekday', ylabel='workingday'>,\n",
       "        <AxesSubplot:xlabel='workingday', ylabel='workingday'>,\n",
       "        <AxesSubplot:xlabel='weathersit', ylabel='workingday'>,\n",
       "        <AxesSubplot:xlabel='temp', ylabel='workingday'>,\n",
       "        <AxesSubplot:xlabel='atemp', ylabel='workingday'>,\n",
       "        <AxesSubplot:xlabel='hum', ylabel='workingday'>,\n",
       "        <AxesSubplot:xlabel='windspeed', ylabel='workingday'>,\n",
       "        <AxesSubplot:xlabel='cnt', ylabel='workingday'>],\n",
       "       [<AxesSubplot:xlabel='season', ylabel='weathersit'>,\n",
       "        <AxesSubplot:xlabel='yr', ylabel='weathersit'>,\n",
       "        <AxesSubplot:xlabel='mnth', ylabel='weathersit'>,\n",
       "        <AxesSubplot:xlabel='hr', ylabel='weathersit'>,\n",
       "        <AxesSubplot:xlabel='holiday', ylabel='weathersit'>,\n",
       "        <AxesSubplot:xlabel='weekday', ylabel='weathersit'>,\n",
       "        <AxesSubplot:xlabel='workingday', ylabel='weathersit'>,\n",
       "        <AxesSubplot:xlabel='weathersit', ylabel='weathersit'>,\n",
       "        <AxesSubplot:xlabel='temp', ylabel='weathersit'>,\n",
       "        <AxesSubplot:xlabel='atemp', ylabel='weathersit'>,\n",
       "        <AxesSubplot:xlabel='hum', ylabel='weathersit'>,\n",
       "        <AxesSubplot:xlabel='windspeed', ylabel='weathersit'>,\n",
       "        <AxesSubplot:xlabel='cnt', ylabel='weathersit'>],\n",
       "       [<AxesSubplot:xlabel='season', ylabel='temp'>,\n",
       "        <AxesSubplot:xlabel='yr', ylabel='temp'>,\n",
       "        <AxesSubplot:xlabel='mnth', ylabel='temp'>,\n",
       "        <AxesSubplot:xlabel='hr', ylabel='temp'>,\n",
       "        <AxesSubplot:xlabel='holiday', ylabel='temp'>,\n",
       "        <AxesSubplot:xlabel='weekday', ylabel='temp'>,\n",
       "        <AxesSubplot:xlabel='workingday', ylabel='temp'>,\n",
       "        <AxesSubplot:xlabel='weathersit', ylabel='temp'>,\n",
       "        <AxesSubplot:xlabel='temp', ylabel='temp'>,\n",
       "        <AxesSubplot:xlabel='atemp', ylabel='temp'>,\n",
       "        <AxesSubplot:xlabel='hum', ylabel='temp'>,\n",
       "        <AxesSubplot:xlabel='windspeed', ylabel='temp'>,\n",
       "        <AxesSubplot:xlabel='cnt', ylabel='temp'>],\n",
       "       [<AxesSubplot:xlabel='season', ylabel='atemp'>,\n",
       "        <AxesSubplot:xlabel='yr', ylabel='atemp'>,\n",
       "        <AxesSubplot:xlabel='mnth', ylabel='atemp'>,\n",
       "        <AxesSubplot:xlabel='hr', ylabel='atemp'>,\n",
       "        <AxesSubplot:xlabel='holiday', ylabel='atemp'>,\n",
       "        <AxesSubplot:xlabel='weekday', ylabel='atemp'>,\n",
       "        <AxesSubplot:xlabel='workingday', ylabel='atemp'>,\n",
       "        <AxesSubplot:xlabel='weathersit', ylabel='atemp'>,\n",
       "        <AxesSubplot:xlabel='temp', ylabel='atemp'>,\n",
       "        <AxesSubplot:xlabel='atemp', ylabel='atemp'>,\n",
       "        <AxesSubplot:xlabel='hum', ylabel='atemp'>,\n",
       "        <AxesSubplot:xlabel='windspeed', ylabel='atemp'>,\n",
       "        <AxesSubplot:xlabel='cnt', ylabel='atemp'>],\n",
       "       [<AxesSubplot:xlabel='season', ylabel='hum'>,\n",
       "        <AxesSubplot:xlabel='yr', ylabel='hum'>,\n",
       "        <AxesSubplot:xlabel='mnth', ylabel='hum'>,\n",
       "        <AxesSubplot:xlabel='hr', ylabel='hum'>,\n",
       "        <AxesSubplot:xlabel='holiday', ylabel='hum'>,\n",
       "        <AxesSubplot:xlabel='weekday', ylabel='hum'>,\n",
       "        <AxesSubplot:xlabel='workingday', ylabel='hum'>,\n",
       "        <AxesSubplot:xlabel='weathersit', ylabel='hum'>,\n",
       "        <AxesSubplot:xlabel='temp', ylabel='hum'>,\n",
       "        <AxesSubplot:xlabel='atemp', ylabel='hum'>,\n",
       "        <AxesSubplot:xlabel='hum', ylabel='hum'>,\n",
       "        <AxesSubplot:xlabel='windspeed', ylabel='hum'>,\n",
       "        <AxesSubplot:xlabel='cnt', ylabel='hum'>],\n",
       "       [<AxesSubplot:xlabel='season', ylabel='windspeed'>,\n",
       "        <AxesSubplot:xlabel='yr', ylabel='windspeed'>,\n",
       "        <AxesSubplot:xlabel='mnth', ylabel='windspeed'>,\n",
       "        <AxesSubplot:xlabel='hr', ylabel='windspeed'>,\n",
       "        <AxesSubplot:xlabel='holiday', ylabel='windspeed'>,\n",
       "        <AxesSubplot:xlabel='weekday', ylabel='windspeed'>,\n",
       "        <AxesSubplot:xlabel='workingday', ylabel='windspeed'>,\n",
       "        <AxesSubplot:xlabel='weathersit', ylabel='windspeed'>,\n",
       "        <AxesSubplot:xlabel='temp', ylabel='windspeed'>,\n",
       "        <AxesSubplot:xlabel='atemp', ylabel='windspeed'>,\n",
       "        <AxesSubplot:xlabel='hum', ylabel='windspeed'>,\n",
       "        <AxesSubplot:xlabel='windspeed', ylabel='windspeed'>,\n",
       "        <AxesSubplot:xlabel='cnt', ylabel='windspeed'>],\n",
       "       [<AxesSubplot:xlabel='season', ylabel='cnt'>,\n",
       "        <AxesSubplot:xlabel='yr', ylabel='cnt'>,\n",
       "        <AxesSubplot:xlabel='mnth', ylabel='cnt'>,\n",
       "        <AxesSubplot:xlabel='hr', ylabel='cnt'>,\n",
       "        <AxesSubplot:xlabel='holiday', ylabel='cnt'>,\n",
       "        <AxesSubplot:xlabel='weekday', ylabel='cnt'>,\n",
       "        <AxesSubplot:xlabel='workingday', ylabel='cnt'>,\n",
       "        <AxesSubplot:xlabel='weathersit', ylabel='cnt'>,\n",
       "        <AxesSubplot:xlabel='temp', ylabel='cnt'>,\n",
       "        <AxesSubplot:xlabel='atemp', ylabel='cnt'>,\n",
       "        <AxesSubplot:xlabel='hum', ylabel='cnt'>,\n",
       "        <AxesSubplot:xlabel='windspeed', ylabel='cnt'>,\n",
       "        <AxesSubplot:xlabel='cnt', ylabel='cnt'>]], dtype=object)"
      ]
     },
     "execution_count": 64,
     "metadata": {},
     "output_type": "execute_result"
    },
    {
     "data": {
      "image/png": "[encoded data removed]",
      "text/plain": [
       "<Figure size 864x576 with 169 Axes>"
      ]
     },
     "metadata": {
      "needs_background": "light"
     },
     "output_type": "display_data"
    }
   ],
   "source": [
    "# from pandas.tools.plotting import scatter_matrix # For older versions of Pandas\n",
    "# Decrease the number of numerical attributes in the for loop below to get a clear picture in the matrices\n",
    "\n",
    "from pandas.plotting import scatter_matrix\n",
    "\n",
    "x = 0\n",
    "attributes = []\n",
    "for x in ['season','yr','mnth','hr','holiday','weekday','workingday','weathersit','temp','atemp','hum','windspeed','cnt', ]:\n",
    "    attributes.append(x)\n",
    "scatter_matrix(Bikes_Data[attributes], figsize=(12, 8))"
   ]
  },
  {
   "cell_type": "code",
   "execution_count": 65,
   "metadata": {},
   "outputs": [
    {
     "data": {
      "text/html": [
       "<div>\n",
       "<style scoped>\n",
       "    .dataframe tbody tr th:only-of-type {\n",
       "        vertical-align: middle;\n",
       "    }\n",
       "\n",
       "    .dataframe tbody tr th {\n",
       "        vertical-align: top;\n",
       "    }\n",
       "\n",
       "    .dataframe thead th {\n",
       "        text-align: right;\n",
       "    }\n",
       "</style>\n",
       "<table border=\"1\" class=\"dataframe\">\n",
       "  <thead>\n",
       "    <tr style=\"text-align: right;\">\n",
       "      <th></th>\n",
       "      <th>season</th>\n",
       "      <th>yr</th>\n",
       "      <th>mnth</th>\n",
       "      <th>hr</th>\n",
       "      <th>holiday</th>\n",
       "      <th>weekday</th>\n",
       "      <th>workingday</th>\n",
       "      <th>weathersit</th>\n",
       "      <th>temp</th>\n",
       "      <th>atemp</th>\n",
       "      <th>hum</th>\n",
       "      <th>windspeed</th>\n",
       "      <th>cnt</th>\n",
       "    </tr>\n",
       "  </thead>\n",
       "  <tbody>\n",
       "    <tr>\n",
       "      <th>count</th>\n",
       "      <td>13903.000000</td>\n",
       "      <td>13903.000000</td>\n",
       "      <td>13903.000000</td>\n",
       "      <td>13903.000000</td>\n",
       "      <td>13903.000000</td>\n",
       "      <td>13903.000000</td>\n",
       "      <td>13903.000000</td>\n",
       "      <td>13903.000000</td>\n",
       "      <td>13903.000000</td>\n",
       "      <td>13903.000000</td>\n",
       "      <td>13903.000000</td>\n",
       "      <td>13903.000000</td>\n",
       "      <td>13903.000000</td>\n",
       "    </tr>\n",
       "    <tr>\n",
       "      <th>mean</th>\n",
       "      <td>2.509243</td>\n",
       "      <td>0.502050</td>\n",
       "      <td>6.552974</td>\n",
       "      <td>11.557146</td>\n",
       "      <td>0.028699</td>\n",
       "      <td>2.998202</td>\n",
       "      <td>0.679566</td>\n",
       "      <td>1.426023</td>\n",
       "      <td>0.497396</td>\n",
       "      <td>0.476183</td>\n",
       "      <td>0.627011</td>\n",
       "      <td>0.189822</td>\n",
       "      <td>190.577070</td>\n",
       "    </tr>\n",
       "    <tr>\n",
       "      <th>std</th>\n",
       "      <td>1.106817</td>\n",
       "      <td>0.500014</td>\n",
       "      <td>3.436925</td>\n",
       "      <td>6.911927</td>\n",
       "      <td>0.166965</td>\n",
       "      <td>2.011350</td>\n",
       "      <td>0.466660</td>\n",
       "      <td>0.638842</td>\n",
       "      <td>0.193017</td>\n",
       "      <td>0.172308</td>\n",
       "      <td>0.192801</td>\n",
       "      <td>0.122293</td>\n",
       "      <td>182.220507</td>\n",
       "    </tr>\n",
       "    <tr>\n",
       "      <th>min</th>\n",
       "      <td>1.000000</td>\n",
       "      <td>0.000000</td>\n",
       "      <td>1.000000</td>\n",
       "      <td>0.000000</td>\n",
       "      <td>0.000000</td>\n",
       "      <td>0.000000</td>\n",
       "      <td>0.000000</td>\n",
       "      <td>1.000000</td>\n",
       "      <td>0.020000</td>\n",
       "      <td>0.000000</td>\n",
       "      <td>0.000000</td>\n",
       "      <td>0.000000</td>\n",
       "      <td>1.000000</td>\n",
       "    </tr>\n",
       "    <tr>\n",
       "      <th>25%</th>\n",
       "      <td>2.000000</td>\n",
       "      <td>0.000000</td>\n",
       "      <td>4.000000</td>\n",
       "      <td>6.000000</td>\n",
       "      <td>0.000000</td>\n",
       "      <td>1.000000</td>\n",
       "      <td>0.000000</td>\n",
       "      <td>1.000000</td>\n",
       "      <td>0.340000</td>\n",
       "      <td>0.333300</td>\n",
       "      <td>0.470000</td>\n",
       "      <td>0.104500</td>\n",
       "      <td>39.000000</td>\n",
       "    </tr>\n",
       "    <tr>\n",
       "      <th>50%</th>\n",
       "      <td>3.000000</td>\n",
       "      <td>1.000000</td>\n",
       "      <td>7.000000</td>\n",
       "      <td>12.000000</td>\n",
       "      <td>0.000000</td>\n",
       "      <td>3.000000</td>\n",
       "      <td>1.000000</td>\n",
       "      <td>1.000000</td>\n",
       "      <td>0.500000</td>\n",
       "      <td>0.484800</td>\n",
       "      <td>0.630000</td>\n",
       "      <td>0.164200</td>\n",
       "      <td>143.000000</td>\n",
       "    </tr>\n",
       "    <tr>\n",
       "      <th>75%</th>\n",
       "      <td>3.000000</td>\n",
       "      <td>1.000000</td>\n",
       "      <td>10.000000</td>\n",
       "      <td>18.000000</td>\n",
       "      <td>0.000000</td>\n",
       "      <td>5.000000</td>\n",
       "      <td>1.000000</td>\n",
       "      <td>2.000000</td>\n",
       "      <td>0.660000</td>\n",
       "      <td>0.621200</td>\n",
       "      <td>0.780000</td>\n",
       "      <td>0.253700</td>\n",
       "      <td>282.000000</td>\n",
       "    </tr>\n",
       "    <tr>\n",
       "      <th>max</th>\n",
       "      <td>4.000000</td>\n",
       "      <td>1.000000</td>\n",
       "      <td>12.000000</td>\n",
       "      <td>23.000000</td>\n",
       "      <td>1.000000</td>\n",
       "      <td>6.000000</td>\n",
       "      <td>1.000000</td>\n",
       "      <td>4.000000</td>\n",
       "      <td>1.000000</td>\n",
       "      <td>1.000000</td>\n",
       "      <td>1.000000</td>\n",
       "      <td>0.850700</td>\n",
       "      <td>976.000000</td>\n",
       "    </tr>\n",
       "  </tbody>\n",
       "</table>\n",
       "</div>"
      ],
      "text/plain": [
       "             season            yr          mnth            hr       holiday  \\\n",
       "count  13903.000000  13903.000000  13903.000000  13903.000000  13903.000000   \n",
       "mean       2.509243      0.502050      6.552974     11.557146      0.028699   \n",
       "std        1.106817      0.500014      3.436925      6.911927      0.166965   \n",
       "min        1.000000      0.000000      1.000000      0.000000      0.000000   \n",
       "25%        2.000000      0.000000      4.000000      6.000000      0.000000   \n",
       "50%        3.000000      1.000000      7.000000     12.000000      0.000000   \n",
       "75%        3.000000      1.000000     10.000000     18.000000      0.000000   \n",
       "max        4.000000      1.000000     12.000000     23.000000      1.000000   \n",
       "\n",
       "            weekday    workingday    weathersit          temp         atemp  \\\n",
       "count  13903.000000  13903.000000  13903.000000  13903.000000  13903.000000   \n",
       "mean       2.998202      0.679566      1.426023      0.497396      0.476183   \n",
       "std        2.011350      0.466660      0.638842      0.193017      0.172308   \n",
       "min        0.000000      0.000000      1.000000      0.020000      0.000000   \n",
       "25%        1.000000      0.000000      1.000000      0.340000      0.333300   \n",
       "50%        3.000000      1.000000      1.000000      0.500000      0.484800   \n",
       "75%        5.000000      1.000000      2.000000      0.660000      0.621200   \n",
       "max        6.000000      1.000000      4.000000      1.000000      1.000000   \n",
       "\n",
       "                hum     windspeed           cnt  \n",
       "count  13903.000000  13903.000000  13903.000000  \n",
       "mean       0.627011      0.189822    190.577070  \n",
       "std        0.192801      0.122293    182.220507  \n",
       "min        0.000000      0.000000      1.000000  \n",
       "25%        0.470000      0.104500     39.000000  \n",
       "50%        0.630000      0.164200    143.000000  \n",
       "75%        0.780000      0.253700    282.000000  \n",
       "max        1.000000      0.850700    976.000000  "
      ]
     },
     "execution_count": 65,
     "metadata": {},
     "output_type": "execute_result"
    }
   ],
   "source": [
    "Bikes_Data.describe()"
   ]
  },
  {
   "cell_type": "markdown",
   "metadata": {},
   "source": [
    "# Prepare the data for Machine Learning algorithms"
   ]
  },
  {
   "cell_type": "code",
   "execution_count": 66,
   "metadata": {},
   "outputs": [],
   "source": [
    "# Let’s revert to a clean training set\n",
    "\n",
    "x = 0\n",
    "for x in ['cnt', ]:\n",
    "    Bikes_Data = train_set.drop(x, axis=1) # drop label for training set\n",
    "    Bikes_Data_labels = train_set[x].copy()\n",
    "\n",
    "# Note drop() creates a copy of the data and does not affect train_set"
   ]
  },
  {
   "cell_type": "code",
   "execution_count": 67,
   "metadata": {},
   "outputs": [
    {
     "data": {
      "text/html": [
       "<div>\n",
       "<style scoped>\n",
       "    .dataframe tbody tr th:only-of-type {\n",
       "        vertical-align: middle;\n",
       "    }\n",
       "\n",
       "    .dataframe tbody tr th {\n",
       "        vertical-align: top;\n",
       "    }\n",
       "\n",
       "    .dataframe thead th {\n",
       "        text-align: right;\n",
       "    }\n",
       "</style>\n",
       "<table border=\"1\" class=\"dataframe\">\n",
       "  <thead>\n",
       "    <tr style=\"text-align: right;\">\n",
       "      <th></th>\n",
       "      <th>season</th>\n",
       "      <th>yr</th>\n",
       "      <th>mnth</th>\n",
       "      <th>hr</th>\n",
       "      <th>holiday</th>\n",
       "      <th>weekday</th>\n",
       "      <th>workingday</th>\n",
       "      <th>weathersit</th>\n",
       "      <th>temp</th>\n",
       "      <th>atemp</th>\n",
       "      <th>hum</th>\n",
       "      <th>windspeed</th>\n",
       "    </tr>\n",
       "  </thead>\n",
       "  <tbody>\n",
       "  </tbody>\n",
       "</table>\n",
       "</div>"
      ],
      "text/plain": [
       "Empty DataFrame\n",
       "Columns: [season, yr, mnth, hr, holiday, weekday, workingday, weathersit, temp, atemp, hum, windspeed]\n",
       "Index: []"
      ]
     },
     "execution_count": 67,
     "metadata": {},
     "output_type": "execute_result"
    }
   ],
   "source": [
    "# Let’s experiment with sample dataset for data cleaning\n",
    "\n",
    "sample_incomplete_rows = Bikes_Data[Bikes_Data.isnull().any(axis=1)].head()\n",
    "sample_incomplete_rows"
   ]
  },
  {
   "cell_type": "code",
   "execution_count": 68,
   "metadata": {},
   "outputs": [],
   "source": [
    "# Let's use Scikit-Learn Imputer class to fill missing values\n",
    "\n",
    "from sklearn.impute import SimpleImputer\n",
    "imputer = SimpleImputer(strategy=\"median\")"
   ]
  },
  {
   "cell_type": "code",
   "execution_count": 69,
   "metadata": {},
   "outputs": [],
   "source": [
    "from sklearn.base import BaseEstimator, TransformerMixin\n",
    "\n",
    "# Create a class to select numerical or categorical columns \n",
    "# since Scikit-Learn doesn't handle DataFrames yet\n",
    "class DataFrameSelector(BaseEstimator, TransformerMixin):\n",
    "    def __init__(self, attribute_names):\n",
    "        self.attribute_names = attribute_names\n",
    "    def fit(self, X, y=None):\n",
    "        return self\n",
    "    def transform(self, X):\n",
    "        return X[self.attribute_names].values"
   ]
  },
  {
   "cell_type": "code",
   "execution_count": 70,
   "metadata": {},
   "outputs": [],
   "source": [
    "Bikes_Data_num = Bikes_Data"
   ]
  },
  {
   "cell_type": "markdown",
   "metadata": {},
   "source": [
    "## Feature scaling"
   ]
  },
  {
   "cell_type": "code",
   "execution_count": 71,
   "metadata": {},
   "outputs": [
    {
     "data": {
      "text/html": [
       "<div>\n",
       "<style scoped>\n",
       "    .dataframe tbody tr th:only-of-type {\n",
       "        vertical-align: middle;\n",
       "    }\n",
       "\n",
       "    .dataframe tbody tr th {\n",
       "        vertical-align: top;\n",
       "    }\n",
       "\n",
       "    .dataframe thead th {\n",
       "        text-align: right;\n",
       "    }\n",
       "</style>\n",
       "<table border=\"1\" class=\"dataframe\">\n",
       "  <thead>\n",
       "    <tr style=\"text-align: right;\">\n",
       "      <th></th>\n",
       "      <th>season</th>\n",
       "      <th>yr</th>\n",
       "      <th>mnth</th>\n",
       "      <th>hr</th>\n",
       "      <th>holiday</th>\n",
       "      <th>weekday</th>\n",
       "      <th>workingday</th>\n",
       "      <th>weathersit</th>\n",
       "      <th>temp</th>\n",
       "      <th>atemp</th>\n",
       "      <th>hum</th>\n",
       "      <th>windspeed</th>\n",
       "    </tr>\n",
       "  </thead>\n",
       "  <tbody>\n",
       "    <tr>\n",
       "      <th>335</th>\n",
       "      <td>1</td>\n",
       "      <td>0</td>\n",
       "      <td>1</td>\n",
       "      <td>11</td>\n",
       "      <td>0</td>\n",
       "      <td>6</td>\n",
       "      <td>0</td>\n",
       "      <td>1</td>\n",
       "      <td>0.20</td>\n",
       "      <td>0.1970</td>\n",
       "      <td>0.55</td>\n",
       "      <td>0.2239</td>\n",
       "    </tr>\n",
       "    <tr>\n",
       "      <th>7035</th>\n",
       "      <td>4</td>\n",
       "      <td>0</td>\n",
       "      <td>10</td>\n",
       "      <td>18</td>\n",
       "      <td>0</td>\n",
       "      <td>2</td>\n",
       "      <td>1</td>\n",
       "      <td>1</td>\n",
       "      <td>0.52</td>\n",
       "      <td>0.5000</td>\n",
       "      <td>0.42</td>\n",
       "      <td>0.1045</td>\n",
       "    </tr>\n",
       "    <tr>\n",
       "      <th>8051</th>\n",
       "      <td>4</td>\n",
       "      <td>0</td>\n",
       "      <td>12</td>\n",
       "      <td>3</td>\n",
       "      <td>0</td>\n",
       "      <td>3</td>\n",
       "      <td>1</td>\n",
       "      <td>3</td>\n",
       "      <td>0.46</td>\n",
       "      <td>0.4545</td>\n",
       "      <td>1.00</td>\n",
       "      <td>0.2239</td>\n",
       "    </tr>\n",
       "    <tr>\n",
       "      <th>2133</th>\n",
       "      <td>2</td>\n",
       "      <td>0</td>\n",
       "      <td>4</td>\n",
       "      <td>18</td>\n",
       "      <td>0</td>\n",
       "      <td>0</td>\n",
       "      <td>0</td>\n",
       "      <td>2</td>\n",
       "      <td>0.46</td>\n",
       "      <td>0.4545</td>\n",
       "      <td>0.31</td>\n",
       "      <td>0.0000</td>\n",
       "    </tr>\n",
       "    <tr>\n",
       "      <th>8485</th>\n",
       "      <td>1</td>\n",
       "      <td>0</td>\n",
       "      <td>12</td>\n",
       "      <td>6</td>\n",
       "      <td>0</td>\n",
       "      <td>0</td>\n",
       "      <td>0</td>\n",
       "      <td>1</td>\n",
       "      <td>0.20</td>\n",
       "      <td>0.2273</td>\n",
       "      <td>0.75</td>\n",
       "      <td>0.1045</td>\n",
       "    </tr>\n",
       "  </tbody>\n",
       "</table>\n",
       "</div>"
      ],
      "text/plain": [
       "      season  yr  mnth  hr  holiday  weekday  workingday  weathersit  temp  \\\n",
       "335        1   0     1  11        0        6           0           1  0.20   \n",
       "7035       4   0    10  18        0        2           1           1  0.52   \n",
       "8051       4   0    12   3        0        3           1           3  0.46   \n",
       "2133       2   0     4  18        0        0           0           2  0.46   \n",
       "8485       1   0    12   6        0        0           0           1  0.20   \n",
       "\n",
       "       atemp   hum  windspeed  \n",
       "335   0.1970  0.55     0.2239  \n",
       "7035  0.5000  0.42     0.1045  \n",
       "8051  0.4545  1.00     0.2239  \n",
       "2133  0.4545  0.31     0.0000  \n",
       "8485  0.2273  0.75     0.1045  "
      ]
     },
     "execution_count": 71,
     "metadata": {},
     "output_type": "execute_result"
    }
   ],
   "source": [
    "# Use Scikit-Learn standard_scaling\n",
    "num_variables_standardization = []\n",
    "for x in ['season','yr','mnth','hr','holiday','weekday','workingday','weathersit','temp','atemp','hum','windspeed', ]:\n",
    "    num_variables_standardization.append(x)\n",
    "Bikes_Data_num_standardization = Bikes_Data_num[num_variables_standardization]\n",
    "Bikes_Data_num_standardization.head()\n"
   ]
  },
  {
   "cell_type": "code",
   "execution_count": 72,
   "metadata": {},
   "outputs": [],
   "source": [
    "# Building a pipeline for preprocessing the numerical attributes for StandardScaler:\n",
    "from sklearn.pipeline import Pipeline\n",
    "from sklearn.preprocessing import StandardScaler\n",
    "num_attribs_standard = list(Bikes_Data_num_standardization)\n",
    "num_pipeline_standard = Pipeline([\n",
    "    ('selector', DataFrameSelector(num_attribs_standard)),\n",
    "    ('imputer', SimpleImputer(strategy=\"median\")),\n",
    "    ('std_scaler', StandardScaler()),\n",
    "])\n"
   ]
  },
  {
   "cell_type": "code",
   "execution_count": 73,
   "metadata": {},
   "outputs": [],
   "source": [
    "from sklearn.pipeline import FeatureUnion\n",
    "full_pipeline = FeatureUnion(transformer_list=[\n",
    "    (\"num_pipeline_standard\", num_pipeline_standard),\n",
    "])\n"
   ]
  },
  {
   "cell_type": "code",
   "execution_count": 74,
   "metadata": {},
   "outputs": [
    {
     "data": {
      "text/html": [
       "<div>\n",
       "<style scoped>\n",
       "    .dataframe tbody tr th:only-of-type {\n",
       "        vertical-align: middle;\n",
       "    }\n",
       "\n",
       "    .dataframe tbody tr th {\n",
       "        vertical-align: top;\n",
       "    }\n",
       "\n",
       "    .dataframe thead th {\n",
       "        text-align: right;\n",
       "    }\n",
       "</style>\n",
       "<table border=\"1\" class=\"dataframe\">\n",
       "  <thead>\n",
       "    <tr style=\"text-align: right;\">\n",
       "      <th></th>\n",
       "      <th>season</th>\n",
       "      <th>yr</th>\n",
       "      <th>mnth</th>\n",
       "      <th>hr</th>\n",
       "      <th>holiday</th>\n",
       "      <th>weekday</th>\n",
       "      <th>workingday</th>\n",
       "      <th>weathersit</th>\n",
       "      <th>temp</th>\n",
       "      <th>atemp</th>\n",
       "      <th>hum</th>\n",
       "      <th>windspeed</th>\n",
       "    </tr>\n",
       "  </thead>\n",
       "  <tbody>\n",
       "    <tr>\n",
       "      <th>335</th>\n",
       "      <td>1</td>\n",
       "      <td>0</td>\n",
       "      <td>1</td>\n",
       "      <td>11</td>\n",
       "      <td>0</td>\n",
       "      <td>6</td>\n",
       "      <td>0</td>\n",
       "      <td>1</td>\n",
       "      <td>0.20</td>\n",
       "      <td>0.1970</td>\n",
       "      <td>0.55</td>\n",
       "      <td>0.2239</td>\n",
       "    </tr>\n",
       "    <tr>\n",
       "      <th>7035</th>\n",
       "      <td>4</td>\n",
       "      <td>0</td>\n",
       "      <td>10</td>\n",
       "      <td>18</td>\n",
       "      <td>0</td>\n",
       "      <td>2</td>\n",
       "      <td>1</td>\n",
       "      <td>1</td>\n",
       "      <td>0.52</td>\n",
       "      <td>0.5000</td>\n",
       "      <td>0.42</td>\n",
       "      <td>0.1045</td>\n",
       "    </tr>\n",
       "    <tr>\n",
       "      <th>8051</th>\n",
       "      <td>4</td>\n",
       "      <td>0</td>\n",
       "      <td>12</td>\n",
       "      <td>3</td>\n",
       "      <td>0</td>\n",
       "      <td>3</td>\n",
       "      <td>1</td>\n",
       "      <td>3</td>\n",
       "      <td>0.46</td>\n",
       "      <td>0.4545</td>\n",
       "      <td>1.00</td>\n",
       "      <td>0.2239</td>\n",
       "    </tr>\n",
       "    <tr>\n",
       "      <th>2133</th>\n",
       "      <td>2</td>\n",
       "      <td>0</td>\n",
       "      <td>4</td>\n",
       "      <td>18</td>\n",
       "      <td>0</td>\n",
       "      <td>0</td>\n",
       "      <td>0</td>\n",
       "      <td>2</td>\n",
       "      <td>0.46</td>\n",
       "      <td>0.4545</td>\n",
       "      <td>0.31</td>\n",
       "      <td>0.0000</td>\n",
       "    </tr>\n",
       "    <tr>\n",
       "      <th>8485</th>\n",
       "      <td>1</td>\n",
       "      <td>0</td>\n",
       "      <td>12</td>\n",
       "      <td>6</td>\n",
       "      <td>0</td>\n",
       "      <td>0</td>\n",
       "      <td>0</td>\n",
       "      <td>1</td>\n",
       "      <td>0.20</td>\n",
       "      <td>0.2273</td>\n",
       "      <td>0.75</td>\n",
       "      <td>0.1045</td>\n",
       "    </tr>\n",
       "  </tbody>\n",
       "</table>\n",
       "</div>"
      ],
      "text/plain": [
       "      season  yr  mnth  hr  holiday  weekday  workingday  weathersit  temp  \\\n",
       "335        1   0     1  11        0        6           0           1  0.20   \n",
       "7035       4   0    10  18        0        2           1           1  0.52   \n",
       "8051       4   0    12   3        0        3           1           3  0.46   \n",
       "2133       2   0     4  18        0        0           0           2  0.46   \n",
       "8485       1   0    12   6        0        0           0           1  0.20   \n",
       "\n",
       "       atemp   hum  windspeed  \n",
       "335   0.1970  0.55     0.2239  \n",
       "7035  0.5000  0.42     0.1045  \n",
       "8051  0.4545  1.00     0.2239  \n",
       "2133  0.4545  0.31     0.0000  \n",
       "8485  0.2273  0.75     0.1045  "
      ]
     },
     "execution_count": 74,
     "metadata": {},
     "output_type": "execute_result"
    }
   ],
   "source": [
    "Bikes_Data.head()"
   ]
  },
  {
   "cell_type": "code",
   "execution_count": 75,
   "metadata": {
    "scrolled": true
   },
   "outputs": [
    {
     "name": "stdout",
     "output_type": "stream",
     "text": [
      "[-1.36363715 -1.00410827 -1.61573901 -0.08060936 -0.17189183  1.49248305\n",
      " -1.45628403 -0.66689219 -1.54083688 -1.62031134 -0.3994488   0.27866867]\n",
      "[ 1.34693531 -1.00410827  1.00297496  0.93216926 -0.17189183 -0.49630229\n",
      "  0.68667923 -0.66689219  0.1171121   0.13822833 -1.07374273 -0.69771358]\n",
      "[ 1.34693531e+00 -1.00410827e+00  1.58491140e+00 -1.23807063e+00\n",
      " -1.71891829e-01  8.94045052e-04  6.86679231e-01  2.46388686e+00\n",
      " -1.93753334e-01 -1.25842810e-01  1.93464557e+00  2.78668674e-01]\n"
     ]
    }
   ],
   "source": [
    "Bikes_Data_prepared = full_pipeline.fit_transform(Bikes_Data)\n",
    "print(Bikes_Data_prepared[0])\n",
    "print(Bikes_Data_prepared[1])\n",
    "print(Bikes_Data_prepared[2])"
   ]
  },
  {
   "cell_type": "code",
   "execution_count": 76,
   "metadata": {},
   "outputs": [
    {
     "data": {
      "text/plain": [
       "(13903, 12)"
      ]
     },
     "execution_count": 76,
     "metadata": {},
     "output_type": "execute_result"
    }
   ],
   "source": [
    "Bikes_Data_prepared.shape"
   ]
  },
  {
   "cell_type": "markdown",
   "metadata": {},
   "source": [
    "# Select and train a model "
   ]
  },
  {
   "cell_type": "code",
   "execution_count": 77,
   "metadata": {},
   "outputs": [],
   "source": [
    "# Function to display scores of our alogorithms for cross-validation\n",
    "\n",
    "def display_scores(scores):\n",
    "    print(\"Scores:\", scores)\n",
    "    print(\"Mean:\", scores.mean())\n",
    "    print(\"Standard deviation:\", scores.std())\n"
   ]
  },
  {
   "cell_type": "code",
   "execution_count": 78,
   "metadata": {},
   "outputs": [
    {
     "data": {
      "text/plain": [
       "LinearRegression(copy_X=True, fit_intercept=True, n_jobs=None, normalize=False)"
      ]
     },
     "execution_count": 78,
     "metadata": {},
     "output_type": "execute_result"
    }
   ],
   "source": [
    "# Train a Linear Regression model\n",
    "\n",
    "from sklearn.linear_model import LinearRegression\n",
    "\n",
    "lin_reg = LinearRegression()\n",
    "lin_reg.fit(Bikes_Data_prepared, Bikes_Data_labels)"
   ]
  },
  {
   "cell_type": "code",
   "execution_count": 79,
   "metadata": {},
   "outputs": [
    {
     "data": {
      "text/plain": [
       "142.45226586527895"
      ]
     },
     "execution_count": 79,
     "metadata": {},
     "output_type": "execute_result"
    }
   ],
   "source": [
    "# Calculate the RMSE in Linear Regression Model\n",
    "\n",
    "from sklearn.metrics import mean_squared_error\n",
    "\n",
    "Bikes_Data_predictions = lin_reg.predict(Bikes_Data_prepared)\n",
    "lin_mse = mean_squared_error(Bikes_Data_labels, Bikes_Data_predictions)\n",
    "lin_rmse = np.sqrt(lin_mse)\n",
    "lin_rmse"
   ]
  },
  {
   "cell_type": "code",
   "execution_count": 80,
   "metadata": {},
   "outputs": [
    {
     "name": "stdout",
     "output_type": "stream",
     "text": [
      "Scores: [141.6739931  136.9332798  146.6355158  139.95070903 139.63168008\n",
      " 140.51019479 147.12052253 146.83020223 147.97899702 137.75358134]\n",
      "Mean: 142.50186756941565\n",
      "Standard deviation: 4.00132932767643\n"
     ]
    }
   ],
   "source": [
    "# K-fold Cross Validation for Linear Regression\n",
    "from sklearn.model_selection import cross_val_score\n",
    "\n",
    "lin_scores = cross_val_score(lin_reg, Bikes_Data_prepared, Bikes_Data_labels,\n",
    "                             scoring=\"neg_mean_squared_error\", cv=10)\n",
    "lin_rmse_scores = np.sqrt(-lin_scores)\n",
    "display_scores(lin_rmse_scores)"
   ]
  },
  {
   "cell_type": "code",
   "execution_count": 81,
   "metadata": {},
   "outputs": [
    {
     "data": {
      "text/plain": [
       "DecisionTreeRegressor(ccp_alpha=0.0, criterion='mse', max_depth=None,\n",
       "                      max_features=None, max_leaf_nodes=None,\n",
       "                      min_impurity_decrease=0.0, min_impurity_split=None,\n",
       "                      min_samples_leaf=1, min_samples_split=2,\n",
       "                      min_weight_fraction_leaf=0.0, presort='deprecated',\n",
       "                      random_state=42, splitter='best')"
      ]
     },
     "execution_count": 81,
     "metadata": {},
     "output_type": "execute_result"
    }
   ],
   "source": [
    "# Train a model using Decision Tree\n",
    "\n",
    "from sklearn.tree import DecisionTreeRegressor\n",
    "\n",
    "tree_reg = DecisionTreeRegressor(random_state=42)\n",
    "tree_reg.fit(Bikes_Data_prepared, Bikes_Data_labels)"
   ]
  },
  {
   "cell_type": "code",
   "execution_count": 82,
   "metadata": {},
   "outputs": [
    {
     "data": {
      "text/plain": [
       "0.5989453436724405"
      ]
     },
     "execution_count": 82,
     "metadata": {},
     "output_type": "execute_result"
    }
   ],
   "source": [
    "# Calculate RMSE in Decision Tree model\n",
    "from sklearn.metrics import mean_squared_error\n",
    "\n",
    "Bikes_Data_predictions = tree_reg.predict(Bikes_Data_prepared)\n",
    "tree_mse = mean_squared_error(Bikes_Data_labels, Bikes_Data_predictions)\n",
    "tree_rmse = np.sqrt(tree_mse)\n",
    "tree_rmse"
   ]
  },
  {
   "cell_type": "code",
   "execution_count": 83,
   "metadata": {},
   "outputs": [],
   "source": [
    "# K-fold Cross Validation for Decision Tree Model\n",
    "from sklearn.model_selection import cross_val_score\n",
    "\n",
    "tree_reg = DecisionTreeRegressor(random_state=42)\n",
    "scores = cross_val_score(tree_reg, Bikes_Data_prepared, Bikes_Data_labels,\n",
    "                         scoring=\"neg_mean_squared_error\", cv=10)\n",
    "tree_rmse_scores = np.sqrt(-scores)"
   ]
  },
  {
   "cell_type": "code",
   "execution_count": 84,
   "metadata": {},
   "outputs": [
    {
     "name": "stdout",
     "output_type": "stream",
     "text": [
      "Scores: [62.85280438 62.25935989 61.7399232  61.75335018 60.30418695 55.54901264\n",
      " 59.58026446 58.9256665  58.3819383  63.45285028]\n",
      "Mean: 60.47993567869496\n",
      "Standard deviation: 2.2981704508600087\n"
     ]
    }
   ],
   "source": [
    "display_scores(tree_rmse_scores)"
   ]
  },
  {
   "cell_type": "code",
   "execution_count": 85,
   "metadata": {},
   "outputs": [
    {
     "data": {
      "text/plain": [
       "RandomForestRegressor(bootstrap=True, ccp_alpha=0.0, criterion='mse',\n",
       "                      max_depth=None, max_features='auto', max_leaf_nodes=None,\n",
       "                      max_samples=None, min_impurity_decrease=0.0,\n",
       "                      min_impurity_split=None, min_samples_leaf=1,\n",
       "                      min_samples_split=2, min_weight_fraction_leaf=0.0,\n",
       "                      n_estimators=100, n_jobs=None, oob_score=False,\n",
       "                      random_state=42, verbose=0, warm_start=False)"
      ]
     },
     "execution_count": 85,
     "metadata": {},
     "output_type": "execute_result"
    }
   ],
   "source": [
    "# Train a model using Random Forests\n",
    "\n",
    "from sklearn.ensemble import RandomForestRegressor\n",
    "\n",
    "forest_reg = RandomForestRegressor(random_state=42)\n",
    "forest_reg.fit(Bikes_Data_prepared, Bikes_Data_labels)"
   ]
  },
  {
   "cell_type": "code",
   "execution_count": 86,
   "metadata": {},
   "outputs": [
    {
     "data": {
      "text/plain": [
       "15.983715666257496"
      ]
     },
     "execution_count": 86,
     "metadata": {},
     "output_type": "execute_result"
    }
   ],
   "source": [
    "# Calculate RMSE in Random Forest model\n",
    "from sklearn.metrics import mean_squared_error\n",
    "\n",
    "Bikes_Data_predictions = forest_reg.predict(Bikes_Data_prepared)\n",
    "forest_mse = mean_squared_error(Bikes_Data_labels, Bikes_Data_predictions)\n",
    "forest_rmse = np.sqrt(forest_mse)\n",
    "forest_rmse"
   ]
  },
  {
   "cell_type": "code",
   "execution_count": 87,
   "metadata": {},
   "outputs": [
    {
     "name": "stdout",
     "output_type": "stream",
     "text": [
      "Scores: [40.94942741 44.63567762 45.55438887 43.94086678 43.13076565 41.73330638\n",
      " 43.26367304 43.97118607 41.54451154 46.59715196]\n",
      "Mean: 43.532095532879495\n",
      "Standard deviation: 1.7073796475529766\n"
     ]
    }
   ],
   "source": [
    "# Cross Validation in Random Forest model\n",
    "\n",
    "from sklearn.model_selection import cross_val_score\n",
    "\n",
    "forest_scores = cross_val_score(forest_reg, Bikes_Data_prepared, Bikes_Data_labels,\n",
    "                                scoring=\"neg_mean_squared_error\", cv=10)\n",
    "forest_rmse_scores = np.sqrt(-forest_scores)\n",
    "display_scores(forest_rmse_scores)"
   ]
  },
  {
   "cell_type": "code",
   "execution_count": 88,
   "metadata": {},
   "outputs": [],
   "source": [
    "# Total attributes\n",
    "\n",
    "attributes = num_attribs_standard"
   ]
  },
  {
   "cell_type": "markdown",
   "metadata": {},
   "source": [
    "## Fine-tune the Model"
   ]
  },
  {
   "cell_type": "code",
   "execution_count": 89,
   "metadata": {},
   "outputs": [
    {
     "data": {
      "text/plain": [
       "GridSearchCV(cv=10, error_score=nan,\n",
       "             estimator=RandomForestRegressor(bootstrap=True, ccp_alpha=0.0,\n",
       "                                             criterion='mse', max_depth=None,\n",
       "                                             max_features='auto',\n",
       "                                             max_leaf_nodes=None,\n",
       "                                             max_samples=None,\n",
       "                                             min_impurity_decrease=0.0,\n",
       "                                             min_impurity_split=None,\n",
       "                                             min_samples_leaf=1,\n",
       "                                             min_samples_split=2,\n",
       "                                             min_weight_fraction_leaf=0.0,\n",
       "                                             n_estimators=100, n_jobs=None,\n",
       "                                             oob_score=False, random_state=42,\n",
       "                                             verbose=0, warm_start=False),\n",
       "             iid='deprecated', n_jobs=None,\n",
       "             param_grid=[{'max_features': [6, 8], 'n_estimators': [10, 30]},\n",
       "                         {'bootstrap': [False], 'max_features': [7, 9],\n",
       "                          'n_estimators': [20, 35]}],\n",
       "             pre_dispatch='2*n_jobs', refit=True, return_train_score=False,\n",
       "             scoring='neg_mean_squared_error', verbose=0)"
      ]
     },
     "execution_count": 89,
     "metadata": {},
     "output_type": "execute_result"
    }
   ],
   "source": [
    "# GridSearchCV\n",
    "\n",
    "from sklearn.ensemble import RandomForestRegressor\n",
    "from sklearn.model_selection import GridSearchCV\n",
    "\n",
    "param_grid = [\n",
    "    # try 12 (3×4) combinations of hyperparameters\n",
    "    {'n_estimators': [10, 30], 'max_features': [6, 8]},\n",
    "    # then try 6 (2×3) combinations with bootstrap set as False\n",
    "    {'bootstrap': [False], 'n_estimators': [20, 35], 'max_features': [7, 9]},\n",
    "]\n",
    "\n",
    "algo = RandomForestRegressor(random_state=42)\n",
    "# train across 10 folds\n",
    "grid_search = GridSearchCV(algo, param_grid, cv=10,\n",
    "                           scoring='neg_mean_squared_error')\n",
    "grid_search.fit(Bikes_Data_prepared, Bikes_Data_labels)"
   ]
  },
  {
   "cell_type": "code",
   "execution_count": 90,
   "metadata": {},
   "outputs": [
    {
     "data": {
      "text/plain": [
       "{'max_features': 8, 'n_estimators': 30}"
      ]
     },
     "execution_count": 90,
     "metadata": {},
     "output_type": "execute_result"
    }
   ],
   "source": [
    "# The best hyperparameter combinations\n",
    "\n",
    "grid_search.best_params_"
   ]
  },
  {
   "cell_type": "code",
   "execution_count": 91,
   "metadata": {},
   "outputs": [
    {
     "data": {
      "text/plain": [
       "RandomForestRegressor(bootstrap=True, ccp_alpha=0.0, criterion='mse',\n",
       "                      max_depth=None, max_features=8, max_leaf_nodes=None,\n",
       "                      max_samples=None, min_impurity_decrease=0.0,\n",
       "                      min_impurity_split=None, min_samples_leaf=1,\n",
       "                      min_samples_split=2, min_weight_fraction_leaf=0.0,\n",
       "                      n_estimators=30, n_jobs=None, oob_score=False,\n",
       "                      random_state=42, verbose=0, warm_start=False)"
      ]
     },
     "execution_count": 91,
     "metadata": {},
     "output_type": "execute_result"
    }
   ],
   "source": [
    "# Get the best estimator\n",
    "\n",
    "grid_search.best_estimator_"
   ]
  },
  {
   "cell_type": "code",
   "execution_count": 92,
   "metadata": {
    "scrolled": true
   },
   "outputs": [
    {
     "name": "stdout",
     "output_type": "stream",
     "text": [
      "48.632778328460276 {'max_features': 6, 'n_estimators': 10}\n",
      "45.349934778537204 {'max_features': 6, 'n_estimators': 30}\n",
      "45.30642460321751 {'max_features': 8, 'n_estimators': 10}\n",
      "42.82742516556323 {'max_features': 8, 'n_estimators': 30}\n",
      "43.35990205927138 {'bootstrap': False, 'max_features': 7, 'n_estimators': 20}\n",
      "42.925159614870566 {'bootstrap': False, 'max_features': 7, 'n_estimators': 35}\n",
      "44.58544258140076 {'bootstrap': False, 'max_features': 9, 'n_estimators': 20}\n",
      "44.450880139488554 {'bootstrap': False, 'max_features': 9, 'n_estimators': 35}\n"
     ]
    }
   ],
   "source": [
    "# Let's look at the score of each hyperparameter combination tested during the grid search\n",
    "\n",
    "cvres = grid_search.cv_results_\n",
    "for mean_score, params in zip(cvres[\"mean_test_score\"], cvres[\"params\"]):\n",
    "    print(np.sqrt(-mean_score), params)"
   ]
  },
  {
   "cell_type": "markdown",
   "metadata": {},
   "source": [
    "### Analyze the Best Models and Their Errors"
   ]
  },
  {
   "cell_type": "code",
   "execution_count": 93,
   "metadata": {},
   "outputs": [
    {
     "data": {
      "text/plain": [
       "[(0.5526058278591502, 'hr'),\n",
       " (0.0872528505124923, 'atemp'),\n",
       " (0.07900574460628927, 'yr'),\n",
       " (0.0786174326477366, 'temp'),\n",
       " (0.06237001110555888, 'workingday'),\n",
       " (0.03964924707305536, 'hum'),\n",
       " (0.02693241275950374, 'weekday'),\n",
       " (0.02098265297263658, 'season'),\n",
       " (0.01984803381945026, 'mnth'),\n",
       " (0.01712327916768152, 'weathersit'),\n",
       " (0.01302483845939972, 'windspeed'),\n",
       " (0.002587669017045558, 'holiday')]"
      ]
     },
     "execution_count": 93,
     "metadata": {},
     "output_type": "execute_result"
    }
   ],
   "source": [
    "# See the importance score of each attribute in GridSearchCV\n",
    "\n",
    "feature_importances = grid_search.best_estimator_.feature_importances_\n",
    "sorted(zip(feature_importances, attributes), reverse=True)"
   ]
  },
  {
   "cell_type": "code",
   "execution_count": 94,
   "metadata": {},
   "outputs": [],
   "source": [
    "# Evaluate model on the Test Set\n",
    "\n",
    "final_model = grid_search.best_estimator_\n",
    "\n",
    "x = 0\n",
    "for x in ['cnt', ]:\n",
    "    X_test = test_set.drop(x, axis=1)\n",
    "    y_test = test_set[x].copy()\n",
    "\n",
    "X_test_prepared = full_pipeline.transform(X_test)\n",
    "final_predictions = final_model.predict(X_test_prepared)\n",
    "\n",
    "final_mse = mean_squared_error(y_test, final_predictions)\n",
    "final_rmse = np.sqrt(final_mse)"
   ]
  },
  {
   "cell_type": "code",
   "execution_count": 95,
   "metadata": {},
   "outputs": [
    {
     "data": {
      "text/plain": [
       "41.13326718948123"
      ]
     },
     "execution_count": 95,
     "metadata": {},
     "output_type": "execute_result"
    }
   ],
   "source": [
    "final_rmse"
   ]
  },
  {
   "cell_type": "markdown",
   "metadata": {},
   "source": [
    "Congratulations! You already know quite a lot about Machine Learning. :)"
   ]
  }
 ],
 "metadata": {
  "kernelspec": {
   "display_name": "Python 3",
   "language": "python",
   "name": "python3"
  },
  "language_info": {
   "codemirror_mode": {
    "name": "ipython",
    "version": 3
   },
   "file_extension": ".py",
   "mimetype": "text/x-python",
   "name": "python",
   "nbconvert_exporter": "python",
   "pygments_lexer": "ipython3",
   "version": "3.6.8"
  },
  "nav_menu": {
   "height": "279px",
   "width": "309px"
  },
  "toc": {
   "base_numbering": 1,
   "nav_menu": {},
   "number_sections": true,
   "sideBar": true,
   "skip_h1_title": false,
   "title_cell": "Table of Contents",
   "title_sidebar": "Contents",
   "toc_cell": false,
   "toc_position": {},
   "toc_section_display": "block",
   "toc_window_display": false
  }
 },
 "nbformat": 4,
 "nbformat_minor": 1
}

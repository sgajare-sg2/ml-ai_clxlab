{
 "cells": [
  {
   "cell_type": "code",
   "execution_count": 23,
   "metadata": {},
   "outputs": [
    {
     "name": "stdout",
     "output_type": "stream",
     "text": [
      "From stephen.marquard@uct.ac.za Sat Jan  5 09:14:16 2008\r\n",
      "Return-Path: <postmaster@collab.sakaiproject.org>\r\n",
      "Received: from murder (mail.umich.edu [141.211.14.90])\r\n",
      "\t by frankenstein.mail.umich.edu (Cyrus v2.3.8) with LMTPA;\r\n",
      "\t Sat, 05 Jan 2008 09:14:16 -0500\r\n",
      "X-Sieve: CMU Sieve 2.3\r\n",
      "Received: from murder ([unix socket])\r\n",
      "\t by mail.umich.edu (Cyrus v2.2.12) with LMTPA;\r\n",
      "\t Sat, 05 Jan 2008 09:14:16 -0500\r\n",
      "Received: from holes.mr.itd.umich.edu (holes.mr.itd.umich.edu [141.211.14.79])\r\n",
      "\tby flawless.mail.umich.edu () with ESMTP id m05EEFR1013674;\r\n",
      "\tSat, 5 Jan 2008 09:14:15 -0500\r\n",
      "Received: FROM paploo.uhi.ac.uk (app1.prod.collab.uhi.ac.uk [194.35.219.184])\r\n",
      "\tBY holes.mr.itd.umich.edu ID 477F90B0.2DB2F.12494 ; \r\n",
      "\t 5 Jan 2008 09:14:10 -0500\r\n",
      "Received: from paploo.uhi.ac.uk (localhost [127.0.0.1])\r\n",
      "\tby paploo.uhi.ac.uk (Postfix) with ESMTP id 5F919BC2F2;\r\n",
      "\tSat,  5 Jan 2008 14:10:05 +0000 (GMT)\r\n",
      "Message-ID: <200801051412.m05ECIaH010327@nakamura.uits.iupui.edu>\r\n",
      "Mime-Version: 1.0\r\n",
      "Content-Transfer-Encoding: 7bit\r\n",
      "Received: from prod.collab.uhi.ac.uk ([194.35.219.182])\r\n",
      "          by paploo.uhi.ac.uk (JAMES SMTP Server 2.1.3) with SMTP ID 899\r\n",
      "          for <source@collab.sakaiproject.org>;\r\n",
      "          Sat, 5 Jan 2008 14:09:50 +0000 (GMT)\r\n",
      "Received: from nakamura.uits.iupui.edu (nakamura.uits.iupui.edu [134.68.220.122])\r\n",
      "\tby shmi.uhi.ac.uk (Postfix) with ESMTP id A215243002\r\n",
      "\tfor <source@collab.sakaiproject.org>; Sat,  5 Jan 2008 14:13:33 +0000 (GMT)\r\n",
      "Received: from nakamura.uits.iupui.edu (localhost [127.0.0.1])\r\n",
      "\tby nakamura.uits.iupui.edu (8.12.11.20060308/8.12.11) with ESMTP id m05ECJVp010329\r\n",
      "\tfor <source@collab.sakaiproject.org>; Sat, 5 Jan 2008 09:12:19 -0500\r\n",
      "Received: (from apache@localhost)\r\n",
      "\tby nakamura.uits.iupui.edu (8.12.11.20060308/8.12.11/Submit) id m05ECIaH010327\r\n",
      "\tfor source@collab.sakaiproject.org; Sat, 5 Jan 2008 09:12:18 -0500\r\n",
      "Date: Sat, 5 Jan 2008 09:12:18 -0500\r\n",
      "X-Authentication-Warning: nakamura.uits.iupui.edu: apache set sender to stephen.marquard@uct.ac.za using -f\r\n",
      "To: source@collab.sakaiproject.org\r\n",
      "From: stephen.marquard@uct.ac.za\r\n",
      "Subject: [sakai] svn commit: r39772 - content/branches/sakai_2-5-x/content-impl/impl/src/java/org/sakaiproject/content/impl\r\n",
      "X-Content-Type-Outer-Envelope: text/plain; charset=UTF-8\r\n",
      "X-Content-Type-Message-Body: text/plain; charset=UTF-8\r\n",
      "Content-Type: text/plain; charset=UTF-8\r\n",
      "X-DSPAM-Result: Innocent\r\n",
      "X-DSPAM-Processed: Sat Jan  5 09:14:16 2008\r\n",
      "X-DSPAM-Confidence: 0.8475\r\n",
      "X-DSPAM-Probability: 0.0000\r\n",
      "\r\n",
      "Details: http://source.sakaiproject.org/viewsvn/?view=rev&rev=39772\r\n",
      "\r\n",
      "Author: stephen.marquard@uct.ac.za\r\n",
      "Date: 2008-01-05 09:12:07 -0500 (Sat, 05 Jan 2008)\r\n",
      "New Revision: 39772\r\n",
      "\r\n",
      "Modified:\r\n",
      "content/branches/sakai_2-5-x/content-impl/impl/src/java/org/sakaiproject/content/impl/ContentServiceSqlOracle.java\r\n",
      "content/branches/sakai_2-5-x/content-impl/impl/src/java/org/sakaiproject/content/impl/DbContentService.java\r\n",
      "Log:\r\n",
      "SAK-12501 merge to 2-5-x: r39622, r39624:5, r39632:3 (resolve conflict from differing linebreaks for r39622)\r\n",
      "\r\n",
      "----------------------\r\n",
      "This automatic notification message was sent by Sakai Collab (https://collab.sakaiproject.org/portal) from the Source site.\r\n",
      "You can modify how you receive notifications at My Workspace > Preferences.\r\n",
      "\r\n",
      "\r\n",
      "\r\n",
      "From louis@media.berkeley.edu Fri Jan  4 18:10:48 2008\r\n",
      "Return-Path: <postmaster@collab.sakaiproject.org>\r\n",
      "Received: from murder (mail.umich.edu [141.211.14.97])\r\n",
      "\t by frankenstein.mail.umich.edu (Cyrus v2.3.8) with LMTPA;\r\n",
      "\t Fri, 04 Jan 2008 18:10:48 -0500\r\n",
      "X-Sieve: CMU Sieve 2.3\r\n",
      "Received: from murder ([unix socket])\r\n",
      "\t by mail.umich.edu (Cyrus v2.2.12) with LMTPA;\r\n",
      "\t Fri, 04 Jan 2008 18:10:48 -0500\r\n",
      "Received: from icestorm.mr.itd.umich.edu (icestorm.mr.itd.umich.edu [141.211.93.149])\r\n",
      "\tby sleepers.mail.umich.edu () with ESMTP id m04NAbGa029441;\r\n",
      "\tFri, 4 Jan 2008 18:10:37 -0500\r\n",
      "Received: FROM paploo.uhi.ac.uk (app1.prod.collab.uhi.ac.uk [194.35.219.184])\r\n",
      "\tBY icestorm.mr.itd.umich.edu ID 477EBCE3.161BB.4320 ; \r\n",
      "\t 4 Jan 2008 18:10:31 -0500\r\n",
      "Received: from paploo.uhi.ac.uk (localhost [127.0.0.1])\r\n",
      "\tby paploo.uhi.ac.uk (Postfix) with ESMTP id 07969BB706;\r\n",
      "\tFri,  4 Jan 2008 23:10:33 +0000 (GMT)\r\n",
      "Message-ID: <200801042308.m04N8v6O008125@nakamura.uits.iupui.edu>\r\n",
      "Mime-Version: 1.0\r\n",
      "Content-Transfer-Encoding: 7bit\r\n",
      "Received: from prod.collab.uhi.ac.uk ([194.35.219.182])\r\n",
      "          by paploo.uhi.ac.uk (JAMES SMTP Server 2.1.3) with SMTP ID 710\r\n",
      "          for <source@collab.sakaiproject.org>;\r\n",
      "          Fri, 4 Jan 2008 23:10:10 +0000 (GMT)\r\n",
      "Received: from nakamura.uits.iupui.edu (nakamura.uits.iupui.edu [134.68.220.122])\r\n",
      "\tby shmi.uhi.ac.uk (Postfix) with ESMTP id 4BA2F42F57\r\n",
      "\tfor <source@collab.sakaiproject.org>; Fri,  4 Jan 2008 23:10:10 +0000 (GMT)\r\n",
      "Received: from nakamura.uits.iupui.edu (localhost [127.0.0.1])\r\n",
      "\tby nakamura.uits.iupui.edu (8.12.11.20060308/8.12.11) with ESMTP id m04N8vHG008127\r\n",
      "\tfor <source@collab.sakaiproject.org>; Fri, 4 Jan 2008 18:08:57 -0500\r\n",
      "Received: (from apache@localhost)\r\n",
      "\tby nakamura.uits.iupui.edu (8.12.11.20060308/8.12.11/Submit) id m04N8v6O008125\r\n",
      "\tfor source@collab.sakaiproject.org; Fri, 4 Jan 2008 18:08:57 -0500\r\n",
      "Date: Fri, 4 Jan 2008 18:08:57 -0500\r\n"
     ]
    }
   ],
   "source": [
    "!head -n 100 /cxldata/datasets/project/mbox-short.txt"
   ]
  },
  {
   "cell_type": "code",
   "execution_count": 2,
   "metadata": {},
   "outputs": [],
   "source": [
    "def number_of_lines():\n",
    "    fhand = open('/cxldata/datasets/project/mbox-short.txt')\n",
    "    inp = fhand.read()\n",
    "    #print(inp)\n",
    "    count = 0\n",
    "    for c in inp:\n",
    "        if c=='\\n':\n",
    "            count=count+1\n",
    "    return count\n",
    "    "
   ]
  },
  {
   "cell_type": "code",
   "execution_count": 3,
   "metadata": {},
   "outputs": [
    {
     "data": {
      "text/plain": [
       "1910"
      ]
     },
     "execution_count": 3,
     "metadata": {},
     "output_type": "execute_result"
    }
   ],
   "source": [
    "number_of_lines()"
   ]
  },
  {
   "cell_type": "code",
   "execution_count": 6,
   "metadata": {},
   "outputs": [],
   "source": [
    "def count_number_of_lines():\n",
    "    fhand = open('/cxldata/datasets/project/mbox-short.txt')\n",
    "    count = 0\n",
    "    for line in fhand:\n",
    "        line = line.rstrip()\n",
    "        if line.startswith('Subject:'):\n",
    "            count=count+1\n",
    "            \n",
    "    return count"
   ]
  },
  {
   "cell_type": "code",
   "execution_count": 7,
   "metadata": {},
   "outputs": [
    {
     "data": {
      "text/plain": [
       "27"
      ]
     },
     "execution_count": 7,
     "metadata": {},
     "output_type": "execute_result"
    }
   ],
   "source": [
    "count_number_of_lines()"
   ]
  },
  {
   "cell_type": "code",
   "execution_count": 11,
   "metadata": {},
   "outputs": [],
   "source": [
    "def average_spam_confidence():\n",
    "    fhand = open('/cxldata/datasets/project/mbox-short.txt')\n",
    "    count,s=0,0\n",
    "    for line in fhand:\n",
    "        line = line.rstrip()\n",
    "        if line.startswith('X-DSPAM-Confidence:'):\n",
    "            a = line.split(':')\n",
    "            s = s+float(a[1])\n",
    "            count = count+1\n",
    "    return s/count\n",
    "        "
   ]
  },
  {
   "cell_type": "code",
   "execution_count": 13,
   "metadata": {},
   "outputs": [
    {
     "data": {
      "text/plain": [
       "0.7507185185185187"
      ]
     },
     "execution_count": 13,
     "metadata": {},
     "output_type": "execute_result"
    }
   ],
   "source": [
    "average_spam_confidence()"
   ]
  },
  {
   "cell_type": "code",
   "execution_count": 16,
   "metadata": {},
   "outputs": [
    {
     "name": "stdout",
     "output_type": "stream",
     "text": [
      "{'Sat': 1, 'Fri': 20, 'Thu': 6}\n"
     ]
    }
   ],
   "source": [
    "import re\n",
    "\n",
    "def find_email_sent_days():\n",
    "    fhand = open('/cxldata/datasets/project/mbox-short.txt')\n",
    "    content = fhand.readlines()\n",
    "    day_dict={}\n",
    "    dayofweek = ''\n",
    "    for line in content:\n",
    "        if re.findall('From ', line):\n",
    "            dayofweek=line.split(' ')[2]\n",
    "            day_dict[dayofweek] = day_dict.get(dayofweek,0) + 1\n",
    "    return day_dict\n",
    "\n",
    "print(find_email_sent_days())"
   ]
  },
  {
   "cell_type": "code",
   "execution_count": 29,
   "metadata": {},
   "outputs": [
    {
     "data": {
      "text/plain": [
       "{'stephen.marquard@uct.ac.za': 2,\n",
       " 'louis@media.berkeley.edu': 3,\n",
       " 'zqian@umich.edu': 4,\n",
       " 'rjlowe@iupui.edu': 2,\n",
       " 'cwen@iupui.edu': 5,\n",
       " 'gsilver@umich.edu': 3,\n",
       " 'wagnermr@iupui.edu': 1,\n",
       " 'antranig@caret.cam.ac.uk': 1,\n",
       " 'gopal.ramasammycook@gmail.com': 1,\n",
       " 'david.horwitz@uct.ac.za': 4,\n",
       " 'ray@media.berkeley.edu': 1}"
      ]
     },
     "execution_count": 29,
     "metadata": {},
     "output_type": "execute_result"
    }
   ],
   "source": [
    "def count_message_from_email():\n",
    "    fhand = open('/cxldata/datasets/project/mbox-short.txt')\n",
    "    ecount = {}\n",
    "    for line in fhand:\n",
    "        if line.startswith('From:') and '@' in line:\n",
    "            sp=line.split()\n",
    "            #print(sp)\n",
    "            email = sp[1]\n",
    "            #print(email)\n",
    "            #print(ecount.get(email,0))\n",
    "            ecount[email]=ecount.get(email,0)+1\n",
    "    return ecount\n",
    "\n",
    "count_message_from_email()\n",
    "    "
   ]
  },
  {
   "cell_type": "code",
   "execution_count": 38,
   "metadata": {},
   "outputs": [
    {
     "data": {
      "text/plain": [
       "{'uct.ac.za': 6,\n",
       " 'media.berkeley.edu': 4,\n",
       " 'umich.edu': 7,\n",
       " 'iupui.edu': 8,\n",
       " 'caret.cam.ac.uk': 1,\n",
       " 'gmail.com': 1}"
      ]
     },
     "execution_count": 38,
     "metadata": {},
     "output_type": "execute_result"
    }
   ],
   "source": [
    "def count_message_from_domain():\n",
    "    fhand = open('/cxldata/datasets/project/mbox-short.txt')\n",
    "    domaindict={}\n",
    "    linelist=[]\n",
    "    for line in fhand:\n",
    "        lineslist = line.split()\n",
    "        if line.startswith('From:'):\n",
    "            email=lineslist[1]\n",
    "            domain = email.split('@')[1]\n",
    "            if domain not in domaindict:\n",
    "                domaindict[domain] = 1\n",
    "            else:\n",
    "                domaindict[domain]+=1\n",
    "    return domaindict\n",
    "\n",
    "\n",
    "count_message_from_domain()"
   ]
  },
  {
   "cell_type": "code",
   "execution_count": null,
   "metadata": {},
   "outputs": [],
   "source": []
  }
 ],
 "metadata": {
  "kernelspec": {
   "display_name": "Python 3",
   "language": "python",
   "name": "python3"
  },
  "language_info": {
   "codemirror_mode": {
    "name": "ipython",
    "version": 3
   },
   "file_extension": ".py",
   "mimetype": "text/x-python",
   "name": "python",
   "nbconvert_exporter": "python",
   "pygments_lexer": "ipython3",
   "version": "3.6.8"
  },
  "toc": {
   "base_numbering": 1,
   "nav_menu": {},
   "number_sections": true,
   "sideBar": true,
   "skip_h1_title": false,
   "title_cell": "Table of Contents",
   "title_sidebar": "Contents",
   "toc_cell": false,
   "toc_position": {},
   "toc_section_display": true,
   "toc_window_display": false
  }
 },
 "nbformat": 4,
 "nbformat_minor": 2
}
